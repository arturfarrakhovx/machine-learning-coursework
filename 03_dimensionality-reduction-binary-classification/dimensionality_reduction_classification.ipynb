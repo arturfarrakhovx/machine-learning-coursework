{
 "cells": [
  {
   "cell_type": "markdown",
   "metadata": {},
   "source": [
    "# Úkol č. 1 - redukce dimenzionality a binární klasifikace\n",
    "\n",
    "  * **Deadline je 22. 4. 2024, 23:59:59**, pokud odevzdáte úkol do 29. 4. 2024, 23:59:59, budete penalizování -12 body, pozdější odevzdání je bez bodu.\n",
    "  * V rámci tohoto úkolu se musíte vypořádat s vysokou dimenzí problému a poté úspěšně aplikovat vhodný klasfikační model.\n",
    "    \n",
    "> **Úkoly jsou zadány tak, aby Vám daly prostor pro invenci. Vymyslet _jak přesně_ budete úkol řešit, je důležitou součástí zadání a originalita či nápaditost bude také hodnocena!**\n",
    "\n",
    "Využívejte buňky typu `Markdown` k vysvětlování Vašeho postupu. Za nepřehlednost budou strhávány body.\n",
    "\n",
    "## Zdroj dat\n",
    "\n",
    " * Zdrojem dat jsou soubory `train.csv` a `evaluate.csv`.\n",
    " * Jedná se o obrázky 28x28 pixelů ve stupních šedi, které byly získány z [Fashion Mnist datasetu](https://www.kaggle.com/datasets/zalando-research/fashionmnist).\n",
    " * Soubor `train.csv` obsahuje trénovací data.\n",
    " * Cílová (vysvětlovaná) proměnná se jmenuje **label**.\n",
    " * Soubor `evaluate.csv` obsahuje testovací data bez hodnot skutečných labelů.\n",
    "\n",
    "## Pokyny k vypracování\n",
    "\n",
    "**Body zadání**, za jejichž (poctivé) vypracování získáte **25 bodů**:\n",
    "  * V notebooku načtěte data ze souboru `train.csv`. Vhodným způsobem si je rozdělte na podmnožiny, které Vám poslouží pro trénování, porovnávání modelů a následnou predikci výkonnosti finálního modelu.\n",
    "  * Proveďte základní průzkum dat a svá pozorování diskutujte. Některé obrázky také zobrazte.\n",
    "  * Postupně aplikujte modely **SVM**, **naivní Bayesův klasifikátor** a **LDA**, přičemž pro každý z nich:\n",
    "      * Okomentujte vhodnost daného modelu pro daný typ úlohy.\n",
    "      * Vyberte si hlavní hyperparametry k ladění (pokud model má hyperparametry) a najděte jejich nejlepší hodnoty.\n",
    "      * Experimentujte se standardizací/normalizací dat.\n",
    "      * U SVM vyzkoušejte alespoň dvě různé jádrové funkce.\n",
    "      * Získané výsledky vždy řádně okomentujte.\n",
    "\n",
    "\n",
    "  * Postupně aplikujte metody redukce dimenzionality PCA a LLE, přičemž pro každou z nich: \n",
    "      * Zopakujte předchozí kroky a pokuste modely vylepšit\n",
    "      * Zkoumejte jaká dimenze je z hlediska výkonnosti finálního modelu nejlepší.\n",
    "      * Získané výsledky vždy řádně okomentujte.\n",
    "    \n",
    "  * Ze všech zkoušených možností vyberte finální model a odhadněte, jakou přesnost můžete očekávat na nových datech, která jste doposud neměli k dispozici.\n",
    "  \n",
    "  * Nakonec načtěte vyhodnocovací data ze souboru`evaluate.csv`. Pomocí finálního modelu napočítejte predikce pro tyto data (vysvětlovaná proměnná v nich již není). Vytvořte soubor `results.csv`, ve kterém získané predikce uložíte do sloupce **label** a identifikátory do sloupce **ID**. Tento soubor též odevzdejte (uložte do projektu vedle notebooku).\n",
    "   \n",
    "   * Ukázka prvních řádků souboru `results.csv`:\n",
    "  \n",
    "```\n",
    "ID,label\n",
    "0,0\n",
    "1,1\n",
    "...\n",
    "```\n",
    "\n",
    "## Poznámky k odevzdání\n",
    "\n",
    "  * Řiďte se pokyny ze stránky https://courses.fit.cvut.cz/BI-ML2/homeworks/index.html.\n",
    "  * Vytvořte i csv soubor `results.csv` s predikcemi a uložte ho v rámci projektu vedle ipython notebooku."
   ]
  },
  {
   "cell_type": "markdown",
   "metadata": {},
   "source": [
    "# Reseni"
   ]
  },
  {
   "cell_type": "markdown",
   "metadata": {},
   "source": [
    "## Načtení dat"
   ]
  },
  {
   "cell_type": "markdown",
   "metadata": {},
   "source": [
    "> ##### Naimportuju potřebné baličky"
   ]
  },
  {
   "cell_type": "code",
   "execution_count": 1,
   "metadata": {},
   "outputs": [],
   "source": [
    "import pandas as pd\n",
    "import numpy as np\n",
    "import matplotlib.pyplot as plt\n",
    "import seaborn as sns\n",
    "sns.set(style=\"whitegrid\")\n",
    "%matplotlib inline\n",
    "\n",
    "from sklearn.model_selection import train_test_split\n",
    "from sklearn.model_selection import ParameterGrid\n",
    "from sklearn.metrics import accuracy_score\n",
    "\n",
    "from sklearn.svm import SVC\n",
    "from sklearn.preprocessing import MinMaxScaler\n",
    "\n",
    "from sklearn.naive_bayes import GaussianNB, MultinomialNB, BernoulliNB\n",
    "from sklearn.preprocessing import Binarizer\n",
    "\n",
    "from sklearn.discriminant_analysis import LinearDiscriminantAnalysis as LDA\n",
    "\n",
    "from sklearn.decomposition import PCA\n",
    "from sklearn.manifold import LocallyLinearEmbedding as LLE"
   ]
  },
  {
   "cell_type": "markdown",
   "metadata": {},
   "source": [
    "> ##### Načtěme data a podívejme se na ně"
   ]
  },
  {
   "cell_type": "code",
   "execution_count": 2,
   "metadata": {},
   "outputs": [],
   "source": [
    "df = pd.read_csv(\"train.csv\")"
   ]
  },
  {
   "cell_type": "code",
   "execution_count": 3,
   "metadata": {},
   "outputs": [
    {
     "data": {
      "text/html": [
       "<div>\n",
       "<style scoped>\n",
       "    .dataframe tbody tr th:only-of-type {\n",
       "        vertical-align: middle;\n",
       "    }\n",
       "\n",
       "    .dataframe tbody tr th {\n",
       "        vertical-align: top;\n",
       "    }\n",
       "\n",
       "    .dataframe thead th {\n",
       "        text-align: right;\n",
       "    }\n",
       "</style>\n",
       "<table border=\"1\" class=\"dataframe\">\n",
       "  <thead>\n",
       "    <tr style=\"text-align: right;\">\n",
       "      <th></th>\n",
       "      <th>label</th>\n",
       "      <th>pixel1</th>\n",
       "      <th>pixel2</th>\n",
       "      <th>pixel3</th>\n",
       "      <th>pixel4</th>\n",
       "      <th>pixel5</th>\n",
       "      <th>pixel6</th>\n",
       "      <th>pixel7</th>\n",
       "      <th>pixel8</th>\n",
       "      <th>pixel9</th>\n",
       "      <th>...</th>\n",
       "      <th>pixel775</th>\n",
       "      <th>pixel776</th>\n",
       "      <th>pixel777</th>\n",
       "      <th>pixel778</th>\n",
       "      <th>pixel779</th>\n",
       "      <th>pixel780</th>\n",
       "      <th>pixel781</th>\n",
       "      <th>pixel782</th>\n",
       "      <th>pixel783</th>\n",
       "      <th>pixel784</th>\n",
       "    </tr>\n",
       "  </thead>\n",
       "  <tbody>\n",
       "    <tr>\n",
       "      <th>0</th>\n",
       "      <td>1</td>\n",
       "      <td>0</td>\n",
       "      <td>0</td>\n",
       "      <td>0</td>\n",
       "      <td>0</td>\n",
       "      <td>0</td>\n",
       "      <td>0</td>\n",
       "      <td>0</td>\n",
       "      <td>0</td>\n",
       "      <td>0</td>\n",
       "      <td>...</td>\n",
       "      <td>208</td>\n",
       "      <td>122</td>\n",
       "      <td>0</td>\n",
       "      <td>0</td>\n",
       "      <td>0</td>\n",
       "      <td>0</td>\n",
       "      <td>0</td>\n",
       "      <td>0</td>\n",
       "      <td>0</td>\n",
       "      <td>0</td>\n",
       "    </tr>\n",
       "    <tr>\n",
       "      <th>1</th>\n",
       "      <td>0</td>\n",
       "      <td>0</td>\n",
       "      <td>0</td>\n",
       "      <td>0</td>\n",
       "      <td>0</td>\n",
       "      <td>0</td>\n",
       "      <td>0</td>\n",
       "      <td>0</td>\n",
       "      <td>0</td>\n",
       "      <td>0</td>\n",
       "      <td>...</td>\n",
       "      <td>0</td>\n",
       "      <td>0</td>\n",
       "      <td>0</td>\n",
       "      <td>0</td>\n",
       "      <td>0</td>\n",
       "      <td>0</td>\n",
       "      <td>0</td>\n",
       "      <td>0</td>\n",
       "      <td>0</td>\n",
       "      <td>0</td>\n",
       "    </tr>\n",
       "    <tr>\n",
       "      <th>2</th>\n",
       "      <td>1</td>\n",
       "      <td>0</td>\n",
       "      <td>0</td>\n",
       "      <td>0</td>\n",
       "      <td>0</td>\n",
       "      <td>0</td>\n",
       "      <td>0</td>\n",
       "      <td>0</td>\n",
       "      <td>0</td>\n",
       "      <td>1</td>\n",
       "      <td>...</td>\n",
       "      <td>75</td>\n",
       "      <td>11</td>\n",
       "      <td>0</td>\n",
       "      <td>1</td>\n",
       "      <td>0</td>\n",
       "      <td>0</td>\n",
       "      <td>0</td>\n",
       "      <td>0</td>\n",
       "      <td>0</td>\n",
       "      <td>0</td>\n",
       "    </tr>\n",
       "    <tr>\n",
       "      <th>3</th>\n",
       "      <td>0</td>\n",
       "      <td>0</td>\n",
       "      <td>0</td>\n",
       "      <td>0</td>\n",
       "      <td>0</td>\n",
       "      <td>0</td>\n",
       "      <td>0</td>\n",
       "      <td>0</td>\n",
       "      <td>0</td>\n",
       "      <td>0</td>\n",
       "      <td>...</td>\n",
       "      <td>106</td>\n",
       "      <td>103</td>\n",
       "      <td>76</td>\n",
       "      <td>0</td>\n",
       "      <td>0</td>\n",
       "      <td>0</td>\n",
       "      <td>0</td>\n",
       "      <td>0</td>\n",
       "      <td>0</td>\n",
       "      <td>0</td>\n",
       "    </tr>\n",
       "    <tr>\n",
       "      <th>4</th>\n",
       "      <td>1</td>\n",
       "      <td>0</td>\n",
       "      <td>0</td>\n",
       "      <td>0</td>\n",
       "      <td>0</td>\n",
       "      <td>0</td>\n",
       "      <td>0</td>\n",
       "      <td>0</td>\n",
       "      <td>0</td>\n",
       "      <td>0</td>\n",
       "      <td>...</td>\n",
       "      <td>0</td>\n",
       "      <td>0</td>\n",
       "      <td>0</td>\n",
       "      <td>0</td>\n",
       "      <td>0</td>\n",
       "      <td>0</td>\n",
       "      <td>0</td>\n",
       "      <td>0</td>\n",
       "      <td>0</td>\n",
       "      <td>0</td>\n",
       "    </tr>\n",
       "    <tr>\n",
       "      <th>5</th>\n",
       "      <td>1</td>\n",
       "      <td>0</td>\n",
       "      <td>0</td>\n",
       "      <td>0</td>\n",
       "      <td>0</td>\n",
       "      <td>0</td>\n",
       "      <td>0</td>\n",
       "      <td>0</td>\n",
       "      <td>0</td>\n",
       "      <td>0</td>\n",
       "      <td>...</td>\n",
       "      <td>0</td>\n",
       "      <td>0</td>\n",
       "      <td>0</td>\n",
       "      <td>0</td>\n",
       "      <td>0</td>\n",
       "      <td>0</td>\n",
       "      <td>0</td>\n",
       "      <td>0</td>\n",
       "      <td>0</td>\n",
       "      <td>0</td>\n",
       "    </tr>\n",
       "    <tr>\n",
       "      <th>6</th>\n",
       "      <td>0</td>\n",
       "      <td>0</td>\n",
       "      <td>0</td>\n",
       "      <td>0</td>\n",
       "      <td>0</td>\n",
       "      <td>0</td>\n",
       "      <td>0</td>\n",
       "      <td>0</td>\n",
       "      <td>0</td>\n",
       "      <td>0</td>\n",
       "      <td>...</td>\n",
       "      <td>81</td>\n",
       "      <td>0</td>\n",
       "      <td>0</td>\n",
       "      <td>0</td>\n",
       "      <td>0</td>\n",
       "      <td>0</td>\n",
       "      <td>0</td>\n",
       "      <td>0</td>\n",
       "      <td>0</td>\n",
       "      <td>0</td>\n",
       "    </tr>\n",
       "    <tr>\n",
       "      <th>7</th>\n",
       "      <td>1</td>\n",
       "      <td>0</td>\n",
       "      <td>0</td>\n",
       "      <td>0</td>\n",
       "      <td>0</td>\n",
       "      <td>0</td>\n",
       "      <td>0</td>\n",
       "      <td>0</td>\n",
       "      <td>0</td>\n",
       "      <td>0</td>\n",
       "      <td>...</td>\n",
       "      <td>157</td>\n",
       "      <td>120</td>\n",
       "      <td>0</td>\n",
       "      <td>0</td>\n",
       "      <td>0</td>\n",
       "      <td>0</td>\n",
       "      <td>0</td>\n",
       "      <td>0</td>\n",
       "      <td>0</td>\n",
       "      <td>0</td>\n",
       "    </tr>\n",
       "    <tr>\n",
       "      <th>8</th>\n",
       "      <td>0</td>\n",
       "      <td>0</td>\n",
       "      <td>0</td>\n",
       "      <td>0</td>\n",
       "      <td>0</td>\n",
       "      <td>0</td>\n",
       "      <td>0</td>\n",
       "      <td>0</td>\n",
       "      <td>0</td>\n",
       "      <td>9</td>\n",
       "      <td>...</td>\n",
       "      <td>98</td>\n",
       "      <td>6</td>\n",
       "      <td>0</td>\n",
       "      <td>0</td>\n",
       "      <td>0</td>\n",
       "      <td>0</td>\n",
       "      <td>0</td>\n",
       "      <td>0</td>\n",
       "      <td>0</td>\n",
       "      <td>0</td>\n",
       "    </tr>\n",
       "    <tr>\n",
       "      <th>9</th>\n",
       "      <td>0</td>\n",
       "      <td>0</td>\n",
       "      <td>0</td>\n",
       "      <td>0</td>\n",
       "      <td>0</td>\n",
       "      <td>0</td>\n",
       "      <td>0</td>\n",
       "      <td>0</td>\n",
       "      <td>0</td>\n",
       "      <td>0</td>\n",
       "      <td>...</td>\n",
       "      <td>0</td>\n",
       "      <td>0</td>\n",
       "      <td>0</td>\n",
       "      <td>0</td>\n",
       "      <td>0</td>\n",
       "      <td>0</td>\n",
       "      <td>0</td>\n",
       "      <td>0</td>\n",
       "      <td>0</td>\n",
       "      <td>0</td>\n",
       "    </tr>\n",
       "  </tbody>\n",
       "</table>\n",
       "<p>10 rows × 785 columns</p>\n",
       "</div>"
      ],
      "text/plain": [
       "   label  pixel1  pixel2  pixel3  pixel4  pixel5  pixel6  pixel7  pixel8  \\\n",
       "0      1       0       0       0       0       0       0       0       0   \n",
       "1      0       0       0       0       0       0       0       0       0   \n",
       "2      1       0       0       0       0       0       0       0       0   \n",
       "3      0       0       0       0       0       0       0       0       0   \n",
       "4      1       0       0       0       0       0       0       0       0   \n",
       "5      1       0       0       0       0       0       0       0       0   \n",
       "6      0       0       0       0       0       0       0       0       0   \n",
       "7      1       0       0       0       0       0       0       0       0   \n",
       "8      0       0       0       0       0       0       0       0       0   \n",
       "9      0       0       0       0       0       0       0       0       0   \n",
       "\n",
       "   pixel9  ...  pixel775  pixel776  pixel777  pixel778  pixel779  pixel780  \\\n",
       "0       0  ...       208       122         0         0         0         0   \n",
       "1       0  ...         0         0         0         0         0         0   \n",
       "2       1  ...        75        11         0         1         0         0   \n",
       "3       0  ...       106       103        76         0         0         0   \n",
       "4       0  ...         0         0         0         0         0         0   \n",
       "5       0  ...         0         0         0         0         0         0   \n",
       "6       0  ...        81         0         0         0         0         0   \n",
       "7       0  ...       157       120         0         0         0         0   \n",
       "8       9  ...        98         6         0         0         0         0   \n",
       "9       0  ...         0         0         0         0         0         0   \n",
       "\n",
       "   pixel781  pixel782  pixel783  pixel784  \n",
       "0         0         0         0         0  \n",
       "1         0         0         0         0  \n",
       "2         0         0         0         0  \n",
       "3         0         0         0         0  \n",
       "4         0         0         0         0  \n",
       "5         0         0         0         0  \n",
       "6         0         0         0         0  \n",
       "7         0         0         0         0  \n",
       "8         0         0         0         0  \n",
       "9         0         0         0         0  \n",
       "\n",
       "[10 rows x 785 columns]"
      ]
     },
     "execution_count": 3,
     "metadata": {},
     "output_type": "execute_result"
    }
   ],
   "source": [
    "df.head(10)"
   ]
  },
  {
   "cell_type": "code",
   "execution_count": 4,
   "metadata": {},
   "outputs": [
    {
     "data": {
      "text/plain": [
       "(2400, 785)"
      ]
     },
     "execution_count": 4,
     "metadata": {},
     "output_type": "execute_result"
    }
   ],
   "source": [
    "df.shape"
   ]
  },
  {
   "cell_type": "code",
   "execution_count": 5,
   "metadata": {},
   "outputs": [
    {
     "data": {
      "image/png": "[encoded data removed]",
      "text/plain": [
       "<Figure size 1100x200 with 5 Axes>"
      ]
     },
     "metadata": {},
     "output_type": "display_data"
    },
    {
     "data": {
      "image/png": "[encoded data removed]",
      "text/plain": [
       "<Figure size 1100x200 with 5 Axes>"
      ]
     },
     "metadata": {},
     "output_type": "display_data"
    }
   ],
   "source": [
    "labels = df['label'].unique()\n",
    "\n",
    "for label in labels:\n",
    "    images = df[df['label'] == label].iloc[:5, 1:]\n",
    "\n",
    "    fig, axs = plt.subplots(1, 5, figsize=(11, 2))\n",
    "\n",
    "    for img, ax in zip(images.values, axs):\n",
    "        ax.imshow(img.reshape(28, 28), cmap='gray')\n",
    "        ax.axis('off')\n",
    "\n",
    "    plt.suptitle(f\"Label: {label}\")"
   ]
  },
  {
   "cell_type": "markdown",
   "metadata": {},
   "source": [
    "> ##### Jak je vidět z obrázků, náš dataset je složen z horních a dolních oděvů, kde ***label*** = 0 znamená dolní oděv a ***label*** = 1 znamená horní oděv"
   ]
  },
  {
   "cell_type": "code",
   "execution_count": 6,
   "metadata": {},
   "outputs": [
    {
     "data": {
      "text/html": [
       "<div>\n",
       "<style scoped>\n",
       "    .dataframe tbody tr th:only-of-type {\n",
       "        vertical-align: middle;\n",
       "    }\n",
       "\n",
       "    .dataframe tbody tr th {\n",
       "        vertical-align: top;\n",
       "    }\n",
       "\n",
       "    .dataframe thead th {\n",
       "        text-align: right;\n",
       "    }\n",
       "</style>\n",
       "<table border=\"1\" class=\"dataframe\">\n",
       "  <thead>\n",
       "    <tr style=\"text-align: right;\">\n",
       "      <th></th>\n",
       "      <th>label</th>\n",
       "      <th>pixel1</th>\n",
       "      <th>pixel2</th>\n",
       "      <th>pixel3</th>\n",
       "      <th>pixel4</th>\n",
       "      <th>pixel5</th>\n",
       "      <th>pixel6</th>\n",
       "      <th>pixel7</th>\n",
       "      <th>pixel8</th>\n",
       "      <th>pixel9</th>\n",
       "      <th>...</th>\n",
       "      <th>pixel775</th>\n",
       "      <th>pixel776</th>\n",
       "      <th>pixel777</th>\n",
       "      <th>pixel778</th>\n",
       "      <th>pixel779</th>\n",
       "      <th>pixel780</th>\n",
       "      <th>pixel781</th>\n",
       "      <th>pixel782</th>\n",
       "      <th>pixel783</th>\n",
       "      <th>pixel784</th>\n",
       "    </tr>\n",
       "  </thead>\n",
       "  <tbody>\n",
       "    <tr>\n",
       "      <th>count</th>\n",
       "      <td>2400.000000</td>\n",
       "      <td>2400.0</td>\n",
       "      <td>2400.0</td>\n",
       "      <td>2400.0</td>\n",
       "      <td>2400.000000</td>\n",
       "      <td>2400.000000</td>\n",
       "      <td>2400.000000</td>\n",
       "      <td>2400.000000</td>\n",
       "      <td>2400.000000</td>\n",
       "      <td>2400.000000</td>\n",
       "      <td>...</td>\n",
       "      <td>2400.000000</td>\n",
       "      <td>2400.000000</td>\n",
       "      <td>2400.000000</td>\n",
       "      <td>2400.000000</td>\n",
       "      <td>2400.000000</td>\n",
       "      <td>2400.000000</td>\n",
       "      <td>2400.00000</td>\n",
       "      <td>2400.000000</td>\n",
       "      <td>2400.000000</td>\n",
       "      <td>2400.0</td>\n",
       "    </tr>\n",
       "    <tr>\n",
       "      <th>mean</th>\n",
       "      <td>0.484167</td>\n",
       "      <td>0.0</td>\n",
       "      <td>0.0</td>\n",
       "      <td>0.0</td>\n",
       "      <td>0.002083</td>\n",
       "      <td>0.098333</td>\n",
       "      <td>0.302500</td>\n",
       "      <td>0.846250</td>\n",
       "      <td>2.256250</td>\n",
       "      <td>6.025000</td>\n",
       "      <td>...</td>\n",
       "      <td>65.379583</td>\n",
       "      <td>26.975417</td>\n",
       "      <td>9.651667</td>\n",
       "      <td>3.307500</td>\n",
       "      <td>1.249167</td>\n",
       "      <td>0.460417</td>\n",
       "      <td>0.11250</td>\n",
       "      <td>0.038750</td>\n",
       "      <td>0.010833</td>\n",
       "      <td>0.0</td>\n",
       "    </tr>\n",
       "    <tr>\n",
       "      <th>std</th>\n",
       "      <td>0.499853</td>\n",
       "      <td>0.0</td>\n",
       "      <td>0.0</td>\n",
       "      <td>0.0</td>\n",
       "      <td>0.067682</td>\n",
       "      <td>1.895871</td>\n",
       "      <td>5.014792</td>\n",
       "      <td>9.262155</td>\n",
       "      <td>15.491603</td>\n",
       "      <td>25.358871</td>\n",
       "      <td>...</td>\n",
       "      <td>66.874570</td>\n",
       "      <td>49.060424</td>\n",
       "      <td>30.540885</td>\n",
       "      <td>18.067668</td>\n",
       "      <td>11.443957</td>\n",
       "      <td>6.363199</td>\n",
       "      <td>2.82043</td>\n",
       "      <td>1.742655</td>\n",
       "      <td>0.530723</td>\n",
       "      <td>0.0</td>\n",
       "    </tr>\n",
       "    <tr>\n",
       "      <th>min</th>\n",
       "      <td>0.000000</td>\n",
       "      <td>0.0</td>\n",
       "      <td>0.0</td>\n",
       "      <td>0.0</td>\n",
       "      <td>0.000000</td>\n",
       "      <td>0.000000</td>\n",
       "      <td>0.000000</td>\n",
       "      <td>0.000000</td>\n",
       "      <td>0.000000</td>\n",
       "      <td>0.000000</td>\n",
       "      <td>...</td>\n",
       "      <td>0.000000</td>\n",
       "      <td>0.000000</td>\n",
       "      <td>0.000000</td>\n",
       "      <td>0.000000</td>\n",
       "      <td>0.000000</td>\n",
       "      <td>0.000000</td>\n",
       "      <td>0.00000</td>\n",
       "      <td>0.000000</td>\n",
       "      <td>0.000000</td>\n",
       "      <td>0.0</td>\n",
       "    </tr>\n",
       "    <tr>\n",
       "      <th>25%</th>\n",
       "      <td>0.000000</td>\n",
       "      <td>0.0</td>\n",
       "      <td>0.0</td>\n",
       "      <td>0.0</td>\n",
       "      <td>0.000000</td>\n",
       "      <td>0.000000</td>\n",
       "      <td>0.000000</td>\n",
       "      <td>0.000000</td>\n",
       "      <td>0.000000</td>\n",
       "      <td>0.000000</td>\n",
       "      <td>...</td>\n",
       "      <td>0.000000</td>\n",
       "      <td>0.000000</td>\n",
       "      <td>0.000000</td>\n",
       "      <td>0.000000</td>\n",
       "      <td>0.000000</td>\n",
       "      <td>0.000000</td>\n",
       "      <td>0.00000</td>\n",
       "      <td>0.000000</td>\n",
       "      <td>0.000000</td>\n",
       "      <td>0.0</td>\n",
       "    </tr>\n",
       "    <tr>\n",
       "      <th>50%</th>\n",
       "      <td>0.000000</td>\n",
       "      <td>0.0</td>\n",
       "      <td>0.0</td>\n",
       "      <td>0.0</td>\n",
       "      <td>0.000000</td>\n",
       "      <td>0.000000</td>\n",
       "      <td>0.000000</td>\n",
       "      <td>0.000000</td>\n",
       "      <td>0.000000</td>\n",
       "      <td>0.000000</td>\n",
       "      <td>...</td>\n",
       "      <td>48.000000</td>\n",
       "      <td>0.000000</td>\n",
       "      <td>0.000000</td>\n",
       "      <td>0.000000</td>\n",
       "      <td>0.000000</td>\n",
       "      <td>0.000000</td>\n",
       "      <td>0.00000</td>\n",
       "      <td>0.000000</td>\n",
       "      <td>0.000000</td>\n",
       "      <td>0.0</td>\n",
       "    </tr>\n",
       "    <tr>\n",
       "      <th>75%</th>\n",
       "      <td>1.000000</td>\n",
       "      <td>0.0</td>\n",
       "      <td>0.0</td>\n",
       "      <td>0.0</td>\n",
       "      <td>0.000000</td>\n",
       "      <td>0.000000</td>\n",
       "      <td>0.000000</td>\n",
       "      <td>0.000000</td>\n",
       "      <td>0.000000</td>\n",
       "      <td>0.000000</td>\n",
       "      <td>...</td>\n",
       "      <td>114.250000</td>\n",
       "      <td>35.000000</td>\n",
       "      <td>0.000000</td>\n",
       "      <td>0.000000</td>\n",
       "      <td>0.000000</td>\n",
       "      <td>0.000000</td>\n",
       "      <td>0.00000</td>\n",
       "      <td>0.000000</td>\n",
       "      <td>0.000000</td>\n",
       "      <td>0.0</td>\n",
       "    </tr>\n",
       "    <tr>\n",
       "      <th>max</th>\n",
       "      <td>1.000000</td>\n",
       "      <td>0.0</td>\n",
       "      <td>0.0</td>\n",
       "      <td>0.0</td>\n",
       "      <td>3.000000</td>\n",
       "      <td>69.000000</td>\n",
       "      <td>188.000000</td>\n",
       "      <td>189.000000</td>\n",
       "      <td>219.000000</td>\n",
       "      <td>243.000000</td>\n",
       "      <td>...</td>\n",
       "      <td>248.000000</td>\n",
       "      <td>252.000000</td>\n",
       "      <td>246.000000</td>\n",
       "      <td>212.000000</td>\n",
       "      <td>179.000000</td>\n",
       "      <td>176.000000</td>\n",
       "      <td>88.00000</td>\n",
       "      <td>85.000000</td>\n",
       "      <td>26.000000</td>\n",
       "      <td>0.0</td>\n",
       "    </tr>\n",
       "  </tbody>\n",
       "</table>\n",
       "<p>8 rows × 785 columns</p>\n",
       "</div>"
      ],
      "text/plain": [
       "             label  pixel1  pixel2  pixel3       pixel4       pixel5  \\\n",
       "count  2400.000000  2400.0  2400.0  2400.0  2400.000000  2400.000000   \n",
       "mean      0.484167     0.0     0.0     0.0     0.002083     0.098333   \n",
       "std       0.499853     0.0     0.0     0.0     0.067682     1.895871   \n",
       "min       0.000000     0.0     0.0     0.0     0.000000     0.000000   \n",
       "25%       0.000000     0.0     0.0     0.0     0.000000     0.000000   \n",
       "50%       0.000000     0.0     0.0     0.0     0.000000     0.000000   \n",
       "75%       1.000000     0.0     0.0     0.0     0.000000     0.000000   \n",
       "max       1.000000     0.0     0.0     0.0     3.000000    69.000000   \n",
       "\n",
       "            pixel6       pixel7       pixel8       pixel9  ...     pixel775  \\\n",
       "count  2400.000000  2400.000000  2400.000000  2400.000000  ...  2400.000000   \n",
       "mean      0.302500     0.846250     2.256250     6.025000  ...    65.379583   \n",
       "std       5.014792     9.262155    15.491603    25.358871  ...    66.874570   \n",
       "min       0.000000     0.000000     0.000000     0.000000  ...     0.000000   \n",
       "25%       0.000000     0.000000     0.000000     0.000000  ...     0.000000   \n",
       "50%       0.000000     0.000000     0.000000     0.000000  ...    48.000000   \n",
       "75%       0.000000     0.000000     0.000000     0.000000  ...   114.250000   \n",
       "max     188.000000   189.000000   219.000000   243.000000  ...   248.000000   \n",
       "\n",
       "          pixel776     pixel777     pixel778     pixel779     pixel780  \\\n",
       "count  2400.000000  2400.000000  2400.000000  2400.000000  2400.000000   \n",
       "mean     26.975417     9.651667     3.307500     1.249167     0.460417   \n",
       "std      49.060424    30.540885    18.067668    11.443957     6.363199   \n",
       "min       0.000000     0.000000     0.000000     0.000000     0.000000   \n",
       "25%       0.000000     0.000000     0.000000     0.000000     0.000000   \n",
       "50%       0.000000     0.000000     0.000000     0.000000     0.000000   \n",
       "75%      35.000000     0.000000     0.000000     0.000000     0.000000   \n",
       "max     252.000000   246.000000   212.000000   179.000000   176.000000   \n",
       "\n",
       "         pixel781     pixel782     pixel783  pixel784  \n",
       "count  2400.00000  2400.000000  2400.000000    2400.0  \n",
       "mean      0.11250     0.038750     0.010833       0.0  \n",
       "std       2.82043     1.742655     0.530723       0.0  \n",
       "min       0.00000     0.000000     0.000000       0.0  \n",
       "25%       0.00000     0.000000     0.000000       0.0  \n",
       "50%       0.00000     0.000000     0.000000       0.0  \n",
       "75%       0.00000     0.000000     0.000000       0.0  \n",
       "max      88.00000    85.000000    26.000000       0.0  \n",
       "\n",
       "[8 rows x 785 columns]"
      ]
     },
     "execution_count": 6,
     "metadata": {},
     "output_type": "execute_result"
    }
   ],
   "source": [
    "df.describe()"
   ]
  },
  {
   "cell_type": "markdown",
   "metadata": {},
   "source": [
    "> ##### Jak je vidět, některé pixely mají vždy hodnotu 0, což znamená, že nenesou žádnou informaci, která by pomohla při klasifikaci obrázků\n",
    "> ##### Také směrodatná odchylka některých pixelů je poměrně malá, což znamená, že se jejich hodnoty skoro nemění, což také znamená, že nesou jen málo užitečné informace"
   ]
  },
  {
   "cell_type": "markdown",
   "metadata": {},
   "source": [
    "## Rozdělení dat"
   ]
  },
  {
   "cell_type": "code",
   "execution_count": 7,
   "metadata": {},
   "outputs": [],
   "source": [
    "Xdata = df.drop(\"label\", axis = 1)\n",
    "ydata = df[\"label\"]"
   ]
  },
  {
   "cell_type": "code",
   "execution_count": 8,
   "metadata": {},
   "outputs": [],
   "source": [
    "random_seed = 111\n",
    "# train = 60% val = 20% test = 20%\n",
    "Xtrain, Xtest, ytrain, ytest = train_test_split(Xdata, ydata, test_size=0.4, random_state=random_seed) \n",
    "Xval, Xtest, yval, ytest = train_test_split(Xtest, ytest, test_size=0.5, random_state=random_seed)"
   ]
  },
  {
   "cell_type": "code",
   "execution_count": 9,
   "metadata": {},
   "outputs": [
    {
     "data": {
      "text/plain": [
       "(2400, 785)"
      ]
     },
     "metadata": {},
     "output_type": "display_data"
    },
    {
     "data": {
      "text/plain": [
       "(1440, 784)"
      ]
     },
     "metadata": {},
     "output_type": "display_data"
    },
    {
     "data": {
      "text/plain": [
       "(480, 784)"
      ]
     },
     "metadata": {},
     "output_type": "display_data"
    },
    {
     "data": {
      "text/plain": [
       "(480, 784)"
      ]
     },
     "metadata": {},
     "output_type": "display_data"
    }
   ],
   "source": [
    "display(df.shape)\n",
    "display(Xtrain.shape)\n",
    "display(Xtest.shape)\n",
    "display(Xval.shape)"
   ]
  },
  {
   "cell_type": "markdown",
   "metadata": {},
   "source": [
    "## Model *SVM*"
   ]
  },
  {
   "cell_type": "markdown",
   "metadata": {},
   "source": [
    "💡Metoda podpůrných vektorů (**SVM**) je efektivní algoritmus pro klasifikační úlohy, jako je například rozpoznávání obrazu. Dokáže pracovat s rozsáhlými prostory příznaků, zvládá řídká data a nabízí flexibilitu při výběru jádra. SVM však může být výpočetně nákladná a vyžaduje pečlivé ladění hyperparametrů."
   ]
  },
  {
   "cell_type": "markdown",
   "metadata": {},
   "source": [
    "> ##### Hodně algoritmů strojového učení funguje lépe, když jsou všechny příznaky podobného rozsahu. SVM není výjimkou. MinMaxScaler transformuje všechny příznaky tak, aby jejich hodnoty ležely mezi 0 a 1 (v dalších SVM modelech po redukci dimenzionality situace zůstává stejná)"
   ]
  },
  {
   "cell_type": "code",
   "execution_count": 10,
   "metadata": {},
   "outputs": [],
   "source": [
    "scaler = MinMaxScaler()\n",
    "\n",
    "scaler.fit(Xtrain)\n",
    "\n",
    "Xtrain_scaled = scaler.transform(Xtrain)\n",
    "Xval_scaled = scaler.transform(Xval)\n",
    "Xtest_scaled = scaler.transform(Xtest)"
   ]
  },
  {
   "cell_type": "markdown",
   "metadata": {},
   "source": [
    "> ##### Vytvořím mřížku hyperparametrů, které budu ladit"
   ]
  },
  {
   "cell_type": "code",
   "execution_count": 11,
   "metadata": {},
   "outputs": [],
   "source": [
    "param_grid_linear_rbf = {\n",
    "    'C': [0.01, 0.1, 1, 5, 10, 20],\n",
    "    'kernel': ['linear', 'rbf'],\n",
    "    'gamma': ['scale', 'auto']\n",
    "}\n",
    "\n",
    "# Dělám to zvlášť, protože degree potřebuji jen pro poly\n",
    "param_grid_poly = {\n",
    "    'C': [0.01, 0.1, 1, 5, 10, 20],\n",
    "    'kernel': ['poly'],\n",
    "    'degree': [2, 3, 5, 7, 9],\n",
    "    'gamma': ['scale', 'auto']\n",
    "}\n",
    "\n",
    "param_grid = list(ParameterGrid(param_grid_linear_rbf)) + list(ParameterGrid(param_grid_poly))"
   ]
  },
  {
   "cell_type": "markdown",
   "metadata": {},
   "source": [
    "> ##### Natrénuju model a určím nejlepší hyperparametry pomocí Accuracy Score"
   ]
  },
  {
   "cell_type": "code",
   "execution_count": 12,
   "metadata": {},
   "outputs": [],
   "source": [
    "modelSVM = SVC()\n",
    "\n",
    "results = []\n",
    "val_accuracies = []\n",
    "\n",
    "for i, params in enumerate(param_grid):\n",
    "    modelSVM.set_params(**params)\n",
    "    \n",
    "    modelSVM.fit(Xtrain_scaled, ytrain)\n",
    "    \n",
    "    ypred_val = modelSVM.predict(Xval_scaled)\n",
    "    val_accuracy = accuracy_score(yval, ypred_val)\n",
    "    val_accuracies.append(val_accuracy)\n",
    "    \n",
    "    results.append({\n",
    "        'params': params,\n",
    "        'val_accuracy': val_accuracy\n",
    "    })"
   ]
  },
  {
   "cell_type": "markdown",
   "metadata": {},
   "source": [
    "> ##### Natrénuju SVM s nejlepšími parametry"
   ]
  },
  {
   "cell_type": "code",
   "execution_count": 13,
   "metadata": {},
   "outputs": [
    {
     "name": "stdout",
     "output_type": "stream",
     "text": [
      "Best SVM Parameters: {'C': 0.1, 'gamma': 'scale', 'kernel': 'linear'}\n",
      "Validation Accuracy: 0.9875\n"
     ]
    }
   ],
   "source": [
    "best_SVM_index = np.argmax(val_accuracies)\n",
    "best_SVM_params = results[best_SVM_index]['params']\n",
    "val_accuracy = results[best_SVM_index]['val_accuracy']\n",
    "\n",
    "print(f\"Best SVM Parameters: {best_SVM_params}\")\n",
    "print(f\"Validation Accuracy: {val_accuracy}\")\n",
    "\n",
    "best_SVM = SVC(**best_SVM_params)\n",
    "best_SVM.fit(Xtrain_scaled, ytrain);"
   ]
  },
  {
   "cell_type": "markdown",
   "metadata": {},
   "source": [
    "> ##### Přesnost na validačních datech je 0.9875, což je docela dobrý výsledek"
   ]
  },
  {
   "cell_type": "markdown",
   "metadata": {},
   "source": [
    "## Model *naivní Bayesův klasifikátor*"
   ]
  },
  {
   "cell_type": "markdown",
   "metadata": {},
   "source": [
    "💡Naivní bayesovský klasifikátor je jednoduchý a rychlý algoritmus, který dobře funguje na velkých souborech dat a může být účinný pro úlohy klasifikace obrázků. Jeho \"naivní\" předpoklad nezávislosti prvků však nemusí být vždy přesný pro obrazy, kde sousední pixely jsou často korelované."
   ]
  },
  {
   "cell_type": "markdown",
   "metadata": {},
   "source": [
    "> ##### **GaussianNB**: Tento model předpokládá, že hodnoty příznaků se řídí normálním (Gaussovým) rozdělením. V kontextu klasifikace obrazu to nemusí být nejlepší předpoklad, protože hodnoty pixelů obrazu mají obvykle nerovnoměrné rozdělení.  \n",
    "> ##### **MultinomialNB**: Tento model je vhodný pro data, která lze popsat multinomickým rozdělením, což se často vyskytuje v úlohách klasifikace textu. V kontextu obrázků může být užitečný, pokud považujeme obrázek za \"text\", kde každý pixel je \"slovo\" ze \"slovníku\" všech možných hodnot pixelů.  \n",
    "> ##### **BernoulliNB**: Tento model se hodí pro binární data a může být užitečný, pokud uvažujeme obrázek jako sadu binárních příznaků (např. každý pixel je \"přítomnost\" nebo \"nepřítomnost\" určité úrovně jasu).  "
   ]
  },
  {
   "cell_type": "code",
   "execution_count": 14,
   "metadata": {},
   "outputs": [
    {
     "name": "stdout",
     "output_type": "stream",
     "text": [
      "GaussianNB score: 0.4791666666666667\n",
      "MultinomialNB score: 0.9375\n"
     ]
    }
   ],
   "source": [
    "# GaussianNB\n",
    "gnb = GaussianNB()\n",
    "gnb.fit(Xtrain, ytrain)\n",
    "print(f\"GaussianNB score: {gnb.score(Xval, yval)}\")\n",
    "\n",
    "# MultinomialNB\n",
    "mnb = MultinomialNB()\n",
    "mnb.fit(Xtrain, ytrain)\n",
    "print(f\"MultinomialNB score: {mnb.score(Xval, yval)}\")"
   ]
  },
  {
   "cell_type": "markdown",
   "metadata": {},
   "source": [
    "> ##### **BernoulliNB** pracuje s binárními příznaky, zatímco naše příznaky jsou hodnoty jasu pixelů, takže použijeme *Binarizer* a vyzkoušíme všechny různé thresholdy, abychom zjistili, u kterého z nich model funguje nejlépe"
   ]
  },
  {
   "cell_type": "code",
   "execution_count": 15,
   "metadata": {},
   "outputs": [
    {
     "name": "stdout",
     "output_type": "stream",
     "text": [
      "Best threshold: 55\n",
      "BernoulliNB score: 0.95625\n"
     ]
    }
   ],
   "source": [
    "# BernoulliNB\n",
    "best_threshold = 0\n",
    "best_score = 0\n",
    "\n",
    "for threshold in range(256):\n",
    "    binarizer = Binarizer(threshold=threshold)\n",
    "    \n",
    "    binarizer.fit(Xtrain)\n",
    "    Xtrain_bin = binarizer.transform(Xtrain)\n",
    "    Xval_bin = binarizer.transform(Xval)\n",
    "\n",
    "    bnb = BernoulliNB()\n",
    "    bnb.fit(Xtrain_bin, ytrain)\n",
    "    score = bnb.score(Xval_bin, yval)\n",
    "\n",
    "    if score > best_score:\n",
    "        best_score = score\n",
    "        best_threshold = threshold\n",
    "\n",
    "print(f\"Best threshold: {best_threshold}\")\n",
    "print(f\"BernoulliNB score: {best_score}\")"
   ]
  },
  {
   "cell_type": "markdown",
   "metadata": {},
   "source": [
    " ##### Popis výsledků:  \n",
    "> ##### **GaussianNB** vykázal nejnižší přesnost ze všech tří modelů. To může být způsobeno tím, že rozdělení hodnot pixelů obrazu se neřídí normálním rozdělením.  \n",
    "> ##### **MultinomiálníNB** ukazal výrazně lepší přesnost, což může být způsobeno tím, že rozdělení hodnot pixelů lépe odpovídá multinomiálnímu rozdělení.  \n",
    "> ##### **BernoulliNB** s thresholdem binarizace 55 ukazal nejlepší přesnost. To naznačuje, že převod hodnot pixelů na binární příznaky může být pro tuto úlohu účinným přístupem."
   ]
  },
  {
   "cell_type": "markdown",
   "metadata": {},
   "source": [
    "> ##### Také jsem si všiml, že u **GaussianNB** výsledek silně závisí na volbě seedu při rozdělení dat na trénovací, validační a testovací data. To může být způsobeno tím, že různá rozdělení mohou vést k různým rozložením hodnot pixelů v trénovací množině, což následně ovlivňuje parametry modelu"
   ]
  },
  {
   "cell_type": "markdown",
   "metadata": {},
   "source": [
    "## Model *LDA*"
   ]
  },
  {
   "cell_type": "markdown",
   "metadata": {},
   "source": [
    "💡Lineární diskriminační analýza (**LDA**) je metoda, která se používá k nalezení lineárního kombinatorického prostoru příznaků, který optimalizuje rozdělení mezi více třídami. V kontextu naší úlohy klasifikace obrázků může být LDA užitečná při hledání \"směrů\", které nejlépe oddělují obrázky různých tříd."
   ]
  },
  {
   "cell_type": "code",
   "execution_count": 16,
   "metadata": {},
   "outputs": [
    {
     "name": "stdout",
     "output_type": "stream",
     "text": [
      "LDA (SVD) score: 0.93125\n",
      "LDA (LSQR) score: 0.9208333333333333\n"
     ]
    }
   ],
   "source": [
    "lda_svd = LDA(solver='svd')\n",
    "lda_lsqr = LDA(solver='lsqr')\n",
    "\n",
    "lda_svd.fit(Xtrain, ytrain)\n",
    "lda_lsqr.fit(Xtrain, ytrain)\n",
    "\n",
    "score_svd = lda_svd.score(Xval, yval)\n",
    "score_lsqr = lda_lsqr.score(Xval, yval)\n",
    "\n",
    "print(f\"LDA (SVD) score: {score_svd}\")\n",
    "print(f\"LDA (LSQR) score: {score_lsqr}\")"
   ]
  },
  {
   "cell_type": "markdown",
   "metadata": {},
   "source": [
    "> ##### Celkově oba modely ukázaly poměrně vysokou přesnost"
   ]
  },
  {
   "cell_type": "markdown",
   "metadata": {},
   "source": [
    "> ##### Nepoužil jsem také solver \"eigen\", protože způsobuje LinAlgError, když matice, kterou se snaží zpracovat, není pozitivně definitní. To může být způsobeno nedostatečným množstvím dat nebo tím, že data jsou příliš řídká nebo mají vysokou dimenzi."
   ]
  },
  {
   "cell_type": "markdown",
   "metadata": {},
   "source": [
    "> ##### Také jsem nepoužil žádný scaler, protože po experimentování s nimi jsem nedosáhl příliš odlišných výsledků (v dalších LDA modelech po redukci dimenzionality situace zůstává stejná)"
   ]
  },
  {
   "cell_type": "markdown",
   "metadata": {},
   "source": [
    "## Redukce dimenzionality PCA"
   ]
  },
  {
   "cell_type": "markdown",
   "metadata": {},
   "source": [
    "💡Obrázky mají obvykle vysokou dimenzionalitu, protože každý pixel v obrázku je samostatným příznakem. V našem případě pracujeme se 784 příznaky. To může ztížit trénování modelů a vést k problému prokletí dimenzionality.\n",
    "\n",
    "PCA tento problém řeší transformací původních příznaků do nového prostoru příznaků s nižší dimenzionalitou. Nové příznaky neboli \"hlavní komponenty\" jsou vybrány tak, aby maximalizovaly rozptyl dat. \n",
    "\n",
    "Použití PCA na obrazová data může pomoci zlepšit účinnost a výkonnost klasifikačních modelů tím, že sníží počet prvků a dobu trénování."
   ]
  },
  {
   "cell_type": "markdown",
   "metadata": {},
   "source": [
    "### *PCA + SVM*"
   ]
  },
  {
   "cell_type": "markdown",
   "metadata": {},
   "source": [
    "> ##### Vytvořím mřížku hyperparametrů, které budu ladit\n",
    "> ##### Počet komponentů budu probírat na relativně malém seznamu možných variant, protože větší počet variant výrazně prodlužuje dobu ladění modelů"
   ]
  },
  {
   "cell_type": "code",
   "execution_count": 17,
   "metadata": {},
   "outputs": [],
   "source": [
    "n_components = [10, 20, 30, 50, 80, 100, 125, 150, 175, 200, 250]\n",
    "param_grid_linear_rbf = {\n",
    "    'C': [0.01, 0.1, 1, 5, 10, 20],\n",
    "    'kernel': ['linear', 'rbf'],\n",
    "    'gamma': ['scale', 'auto']\n",
    "}\n",
    "param_grid_poly = {\n",
    "    'C': [0.01, 0.1, 1, 5, 10, 20],\n",
    "    'kernel': ['poly'],\n",
    "    'degree': [2, 3, 5, 7, 9],\n",
    "    'gamma': ['scale', 'auto']\n",
    "}\n",
    "param_grid = list(ParameterGrid(param_grid_linear_rbf)) + list(ParameterGrid(param_grid_poly))"
   ]
  },
  {
   "cell_type": "markdown",
   "metadata": {},
   "source": [
    "> ##### Natrénuju model a určím nejlepší hyperparametry pomocí Accuracy Score\n",
    "> ##### Během trénování modelu použiji redukci PCA."
   ]
  },
  {
   "cell_type": "code",
   "execution_count": 18,
   "metadata": {},
   "outputs": [],
   "source": [
    "modelSVM = SVC()\n",
    "\n",
    "results = []\n",
    "val_accuracies = []\n",
    "\n",
    "for n in n_components:\n",
    "    \n",
    "    pca = PCA(n_components=n)\n",
    "    Xtrain_pca = pca.fit_transform(Xtrain_scaled)\n",
    "    Xval_pca = pca.transform(Xval_scaled)\n",
    "\n",
    "    for i, params in enumerate(param_grid):\n",
    "        modelSVM.set_params(**params)\n",
    "\n",
    "        modelSVM.fit(Xtrain_pca, ytrain)\n",
    "\n",
    "        ypred_val = modelSVM.predict(Xval_pca)\n",
    "        val_accuracy = accuracy_score(yval, ypred_val)\n",
    "        val_accuracies.append(val_accuracy)\n",
    "\n",
    "        results.append({\n",
    "            'n_components': n,\n",
    "            'params': params,\n",
    "            'val_accuracy': val_accuracy\n",
    "        })"
   ]
  },
  {
   "cell_type": "markdown",
   "metadata": {},
   "source": [
    "> ##### 👆Při trénování modelu jsem použil data již zpracovaná pomocí MinMaxScaleru, protože s ním model funguje lépe."
   ]
  },
  {
   "cell_type": "markdown",
   "metadata": {},
   "source": [
    "> ##### Natrénuju PCA + SVM s nejlepšími parametry"
   ]
  },
  {
   "cell_type": "code",
   "execution_count": 19,
   "metadata": {},
   "outputs": [
    {
     "name": "stdout",
     "output_type": "stream",
     "text": [
      "Best SVM Parameters: {'C': 5, 'degree': 3, 'gamma': 'scale', 'kernel': 'poly'}\n",
      "Best number of PCA components: 30\n",
      "Validation Accuracy: 0.9917\n"
     ]
    }
   ],
   "source": [
    "best_index = np.argmax(val_accuracies)\n",
    "best_n_components = results[best_index]['n_components']\n",
    "best_params = results[best_index]['params']\n",
    "val_accuracy = results[best_index]['val_accuracy']\n",
    "\n",
    "print(f\"Best SVM Parameters: {best_params}\")\n",
    "print(f\"Best number of PCA components: {best_n_components}\")\n",
    "print(f\"Validation Accuracy: {val_accuracy:.4f}\")\n",
    "\n",
    "best_SVM_PCA = SVC(**best_params)\n",
    "pca = PCA(n_components=best_n_components)\n",
    "Xtrain_pca = pca.fit_transform(Xtrain_scaled)\n",
    "best_SVM_PCA.fit(Xtrain_pca, ytrain);"
   ]
  },
  {
   "cell_type": "markdown",
   "metadata": {},
   "source": [
    "> ##### Jak je vidět, přesnost na validačních datech je 0.9917, což je velmi dobrý výsledek, a to při použití pouze 30 komponentů.\n",
    "> ##### Ale na druhou stranu i bez použití PCA měl model SVM přesnost 0.9875, takže se nakonec po použití PCA skoro nic nezměnilo."
   ]
  },
  {
   "cell_type": "markdown",
   "metadata": {},
   "source": [
    "### *PCA + naivní Bayesův klasifikátor*"
   ]
  },
  {
   "cell_type": "markdown",
   "metadata": {},
   "source": [
    "> ##### V kontextu modelu naivního Bayesova klasifikátoru s aplikací PCA můžeme použít pouze GaussianNB, protože po aplikaci PCA získáme spojitá data včetně záporných hodnot, což znemožňuje použití MultinomialNB a BernoulliNB."
   ]
  },
  {
   "cell_type": "code",
   "execution_count": 20,
   "metadata": {},
   "outputs": [
    {
     "name": "stdout",
     "output_type": "stream",
     "text": [
      "Best number of PCA components: 30\n",
      "Best score: 0.9625\n"
     ]
    }
   ],
   "source": [
    "n_components = [10, 20, 30, 50, 80, 100, 125, 150, 175, 200, 250]\n",
    "\n",
    "best_n = 0\n",
    "best_score = 0\n",
    "\n",
    "for n in n_components:\n",
    "    \n",
    "    pca = PCA(n_components=n)\n",
    "    Xtrain_pca = pca.fit_transform(Xtrain)\n",
    "    Xval_pca = pca.transform(Xval)\n",
    "\n",
    "    gnb = GaussianNB()\n",
    "    gnb.fit(Xtrain_pca, ytrain)\n",
    "    \n",
    "    score = gnb.score(Xval_pca, yval)\n",
    "    \n",
    "    if score > best_score:\n",
    "        best_score = score\n",
    "        best_n = n\n",
    "\n",
    "print(f\"Best number of PCA components: {best_n}\")\n",
    "print(f\"Best score: {best_score}\")"
   ]
  },
  {
   "cell_type": "markdown",
   "metadata": {},
   "source": [
    "> ##### V tomto modelu jsme po PCA opět získali 30 komponentů.\n",
    "> ##### Zároveň se výrazně zvýšila přesnost modelu ve srovnání s modelem **GaussianNB** bez PCA, což může být způsobeno tím, že transformace dat pomocí PCA může přiblížit rozdělení dat normálnímu, což zlepšuje výkonnost **GaussianNB**"
   ]
  },
  {
   "cell_type": "markdown",
   "metadata": {},
   "source": [
    "### *PCA + LDA*"
   ]
  },
  {
   "cell_type": "code",
   "execution_count": 21,
   "metadata": {},
   "outputs": [
    {
     "name": "stdout",
     "output_type": "stream",
     "text": [
      "Best number of PCA components for 'svd' solver: 20\n",
      "Best score for 'svd' solver: 0.9812\n",
      "Best number of PCA components for 'lsqr' solver: 20\n",
      "Best score for 'lsqr' solver: 0.9812\n"
     ]
    }
   ],
   "source": [
    "n_components = [10, 20, 30, 50, 80, 100, 125, 150, 175, 200, 250]\n",
    "\n",
    "best_score_svd = 0\n",
    "best_n_svd = 0\n",
    "\n",
    "best_score_lsqr = 0\n",
    "best_n_lsqr = 0\n",
    "\n",
    "for n in n_components:\n",
    "   \n",
    "    pca = PCA(n_components=n)\n",
    "    Xtrain_pca = pca.fit_transform(Xtrain)\n",
    "    Xval_pca = pca.transform(Xval)\n",
    "\n",
    "    # svd\n",
    "    lda_svd = LDA(solver='svd')\n",
    "    lda_svd.fit(Xtrain_pca, ytrain)\n",
    "    \n",
    "    score_svd = lda_svd.score(Xval_pca, yval)\n",
    "    \n",
    "    if score_svd > best_score_svd:\n",
    "        best_score_svd = score_svd\n",
    "        best_n_svd = n\n",
    "\n",
    "    # lsqr\n",
    "    lda_lsqr = LDA(solver='lsqr')\n",
    "    lda_lsqr.fit(Xtrain_pca, ytrain)\n",
    "    \n",
    "    score_lsqr = lda_lsqr.score(Xval_pca, yval)\n",
    "    \n",
    "    if score_lsqr > best_score_lsqr:\n",
    "        best_score_lsqr = score_lsqr\n",
    "        best_n_lsqr = n\n",
    "\n",
    "print(f\"Best number of PCA components for 'svd' solver: {best_n_svd}\")\n",
    "print(f\"Best score for 'svd' solver: {best_score_svd:.4f}\")\n",
    "\n",
    "print(f\"Best number of PCA components for 'lsqr' solver: {best_n_lsqr}\")\n",
    "print(f\"Best score for 'lsqr' solver: {best_score_lsqr:.4f}\")"
   ]
  },
  {
   "cell_type": "markdown",
   "metadata": {},
   "source": [
    "> ##### Zaprvé je vidět, že u obou solverů je výsledek stejný, což může být způsobeno tím, že se snižuje dimenzionalita dat, což může způsobit, že některé rozdíly v datech, které byly viditelné při vyšší dimenzionalitě, se při nižší dimenzionalitě stanou méně patrnými. V důsledku toho mohou oba solvery začít dávat podobnější výsledky.\n",
    "> ##### Zadruhé, přesnost ve srovnání s variantou bez PCA se u obou solverů zvýšila."
   ]
  },
  {
   "cell_type": "markdown",
   "metadata": {},
   "source": [
    "## Redukce dimenzionality LLE"
   ]
  },
  {
   "cell_type": "markdown",
   "metadata": {},
   "source": [
    "💡Podobně jako PCA, LLE (Locally Linear Embedding) je také technika snižování dimenzionality, která může být užitečná pro zpracování obrazových dat s vysokou dimenzionalitou. Zatímco PCA se zaměřuje na maximalizaci rozptylu dat, LLE se snaží zachovat geometrii blízkých sousedů v původním prostoru příznaků.\n",
    "\n",
    "LLE funguje tak, že pro každý bod v datasetu identifikuje jeho nejbližší sousedy a poté hledá nízkodimenzionální reprezentaci dat, která nejlépe zachovává tyto lokální vztahy. To může být obzvláště užitečné pro složité struktury, kde je lineární přístup PCA nedostačující."
   ]
  },
  {
   "cell_type": "markdown",
   "metadata": {},
   "source": [
    "### *LLE + SVM*"
   ]
  },
  {
   "cell_type": "markdown",
   "metadata": {},
   "source": [
    "> ##### Vytvořím mřížku hyperparametrů, které budu ladit"
   ]
  },
  {
   "cell_type": "code",
   "execution_count": 22,
   "metadata": {},
   "outputs": [],
   "source": [
    "n_components = [10, 20, 30, 50, 80, 100, 125, 150, 175, 200, 250]\n",
    "param_grid_linear_rbf = {\n",
    "    'C': [0.01, 0.1, 1, 5, 10, 20],\n",
    "    'kernel': ['linear', 'rbf'],\n",
    "    'gamma': ['scale', 'auto']\n",
    "}\n",
    "param_grid_poly = {\n",
    "    'C': [0.01, 0.1, 1, 5, 10, 20],\n",
    "    'kernel': ['poly'],\n",
    "    'degree': [2, 3, 5, 7, 9],\n",
    "    'gamma': ['scale', 'auto']\n",
    "}\n",
    "param_grid = list(ParameterGrid(param_grid_linear_rbf)) + list(ParameterGrid(param_grid_poly))"
   ]
  },
  {
   "cell_type": "markdown",
   "metadata": {},
   "source": [
    "> ##### Natrénuju model a určím nejlepší hyperparametry pomocí Accuracy Score\n",
    "> ##### Během trénování modelu použiji redukci LLE"
   ]
  },
  {
   "cell_type": "code",
   "execution_count": 23,
   "metadata": {},
   "outputs": [],
   "source": [
    "modelSVM = SVC()\n",
    "\n",
    "results = []\n",
    "val_accuracies = []\n",
    "\n",
    "for n in n_components:\n",
    "    \n",
    "    lle = LLE(n_components=n)\n",
    "    Xtrain_lle = lle.fit_transform(Xtrain_scaled)\n",
    "    Xval_lle = lle.transform(Xval_scaled)\n",
    "\n",
    "    for i, params in enumerate(param_grid):\n",
    "        modelSVM.set_params(**params)\n",
    "\n",
    "        modelSVM.fit(Xtrain_lle, ytrain)\n",
    "\n",
    "        ypred_val = modelSVM.predict(Xval_lle)\n",
    "\n",
    "        val_accuracy = accuracy_score(yval, ypred_val)\n",
    "        val_accuracies.append(val_accuracy)\n",
    "\n",
    "        results.append({\n",
    "            'n_components': n,\n",
    "            'params': params,\n",
    "            'val_accuracy': val_accuracy\n",
    "        })\n"
   ]
  },
  {
   "cell_type": "markdown",
   "metadata": {},
   "source": [
    "> ##### Natrénuju LLE + SVM s nejlepšími parametry"
   ]
  },
  {
   "cell_type": "code",
   "execution_count": 24,
   "metadata": {},
   "outputs": [
    {
     "name": "stdout",
     "output_type": "stream",
     "text": [
      "Best SVM Parameters: {'C': 20, 'degree': 2, 'gamma': 'scale', 'kernel': 'poly'}\n",
      "Best number of LLE components: 50\n",
      "Validation Accuracy: 0.9833\n"
     ]
    }
   ],
   "source": [
    "best_index = np.argmax(val_accuracies)\n",
    "best_n_components = results[best_index]['n_components']\n",
    "best_params = results[best_index]['params']\n",
    "val_accuracy = results[best_index]['val_accuracy']\n",
    "\n",
    "print(f\"Best SVM Parameters: {best_params}\")\n",
    "print(f\"Best number of LLE components: {best_n_components}\")\n",
    "print(f\"Validation Accuracy: {val_accuracy:.4f}\")\n",
    "\n",
    "best_SVM_LLE = SVC(**best_params)\n",
    "lle = LLE(n_components=best_n_components)\n",
    "Xtrain_lle = lle.fit_transform(Xtrain_scaled)\n",
    "best_SVM_LLE.fit(Xtrain_lle, ytrain);"
   ]
  },
  {
   "cell_type": "markdown",
   "metadata": {},
   "source": [
    "> ##### Výsledkem je 50 komponentů a přesnost 0,9833, což je docela dobrý výsledek.\n",
    "> ##### Na druhou stranu se však tento výsledek příliš neliší od běžného modelu SVM a SVM s aplikací PCA."
   ]
  },
  {
   "cell_type": "markdown",
   "metadata": {},
   "source": [
    "### *LLE + naivní Bayesův klasifikátor*"
   ]
  },
  {
   "cell_type": "markdown",
   "metadata": {},
   "source": [
    "> ##### V kontextu modelu naivního Bayesova klasifikátoru s aplikací LLE zase můžeme použít pouze GaussianNB, protože po aplikaci LLE obdobně jako s PCA získáme spojitá data včetně záporných hodnot, což znemožňuje použití MultinomialNB a BernoulliNB."
   ]
  },
  {
   "cell_type": "code",
   "execution_count": 25,
   "metadata": {},
   "outputs": [
    {
     "name": "stdout",
     "output_type": "stream",
     "text": [
      "Best number of LLE components: 20\n",
      "Best score: 0.9729\n"
     ]
    }
   ],
   "source": [
    "n_components = [10, 20, 30, 50, 80, 100, 125, 150, 175, 200, 250]\n",
    "\n",
    "best_score = 0\n",
    "best_n = 0\n",
    "\n",
    "for n in n_components:\n",
    "    \n",
    "    lle = LLE(n_components=n)\n",
    "    Xtrain_lle = lle.fit_transform(Xtrain)\n",
    "    Xval_lle = lle.transform(Xval)\n",
    "\n",
    "    gnb = GaussianNB()\n",
    "    gnb.fit(Xtrain_lle, ytrain)\n",
    "    \n",
    "    score = gnb.score(Xval_lle, yval)\n",
    "    \n",
    "    if score > best_score:\n",
    "        best_score = score\n",
    "        best_n = n\n",
    "\n",
    "print(f\"Best number of LLE components: {best_n}\")\n",
    "print(f\"Best score: {best_score:.4f}\")"
   ]
  },
  {
   "cell_type": "markdown",
   "metadata": {},
   "source": [
    "> ##### Získali jsme 20 komponentů a přesnost 0.9729, což je lepší než při použití PCA"
   ]
  },
  {
   "cell_type": "markdown",
   "metadata": {},
   "source": [
    "### *LLE + LDA*"
   ]
  },
  {
   "cell_type": "code",
   "execution_count": 26,
   "metadata": {},
   "outputs": [
    {
     "name": "stdout",
     "output_type": "stream",
     "text": [
      "Best number of LLE components for 'svd' solver: 50\n",
      "Best score for 'svd' solver: 0.975\n",
      "Best number of LLE components for 'lsqr' solver: 50\n",
      "Best score for 'lsqr' solver: 0.975\n"
     ]
    }
   ],
   "source": [
    "n_components = [10, 20, 30, 50, 80, 100, 125, 150, 175, 200, 250]\n",
    "\n",
    "best_score_svd = 0\n",
    "best_n_svd = 0\n",
    "\n",
    "best_score_lsqr = 0\n",
    "best_n_lsqr = 0\n",
    "\n",
    "for n in n_components:\n",
    "    lle = LLE(n_components=n)\n",
    "    Xtrain_lle = lle.fit_transform(Xtrain)\n",
    "    Xval_lle = lle.transform(Xval)\n",
    "\n",
    "    # svd\n",
    "    lda_svd = LDA(solver='svd')\n",
    "    lda_svd.fit(Xtrain_lle, ytrain)\n",
    "    \n",
    "    score_svd = lda_svd.score(Xval_lle, yval)\n",
    "    \n",
    "    if score_svd > best_score_svd:\n",
    "        best_score_svd = score_svd\n",
    "        best_n_svd = n\n",
    "\n",
    "    # lsqr\n",
    "    lda_lsqr = LDA(solver='lsqr')\n",
    "    lda_lsqr.fit(Xtrain_lle, ytrain)\n",
    "    \n",
    "    score_lsqr = lda_lsqr.score(Xval_lle, yval)\n",
    "    \n",
    "    if score_lsqr > best_score_lsqr:\n",
    "        best_score_lsqr = score_lsqr\n",
    "        best_n_lsqr = n\n",
    "\n",
    "print(f\"Best number of LLE components for 'svd' solver: {best_n_svd}\")\n",
    "print(f\"Best score for 'svd' solver: {best_score_svd}\")\n",
    "print(f\"Best number of LLE components for 'lsqr' solver: {best_n_lsqr}\")\n",
    "print(f\"Best score for 'lsqr' solver: {best_score_lsqr}\")"
   ]
  },
  {
   "cell_type": "markdown",
   "metadata": {},
   "source": [
    "> ##### Výsledek obou solverů je opět stejný a přesnost je přibližně stejná jako při použití PCA."
   ]
  },
  {
   "cell_type": "markdown",
   "metadata": {},
   "source": [
    "## Finalní model"
   ]
  },
  {
   "cell_type": "markdown",
   "metadata": {},
   "source": [
    "> ##### Po porovnání výsledků všech modelů před použitím redukce dimenzionality a po ní jsem se rozhodl použít jako finální model PCA + SVM s 30 komponenty"
   ]
  },
  {
   "cell_type": "code",
   "execution_count": 27,
   "metadata": {},
   "outputs": [
    {
     "name": "stdout",
     "output_type": "stream",
     "text": [
      "Test Accuracy: 0.9667\n"
     ]
    }
   ],
   "source": [
    "pca = PCA(n_components=30)\n",
    "pca.fit(Xtrain_scaled)\n",
    "Xtest_pca = pca.transform(Xtest_scaled)\n",
    "\n",
    "ypred_test = best_SVM_PCA.predict(Xtest_pca)\n",
    "\n",
    "test_accuracy = accuracy_score(ytest, ypred_test)\n",
    "\n",
    "print(f\"Test Accuracy: {test_accuracy:.4f}\")"
   ]
  },
  {
   "cell_type": "markdown",
   "metadata": {},
   "source": [
    "Přesnost na datech, která model nikdy neviděl, tj. na testovacích datech, lze odhadnout jako 0.9667, což je dobrý výsledek."
   ]
  },
  {
   "cell_type": "markdown",
   "metadata": {},
   "source": [
    "## Evaluace"
   ]
  },
  {
   "cell_type": "markdown",
   "metadata": {},
   "source": [
    "> ##### Načteme dataset evaluate"
   ]
  },
  {
   "cell_type": "code",
   "execution_count": 28,
   "metadata": {},
   "outputs": [],
   "source": [
    "df_eval = pd.read_csv(\"evaluate.csv\")"
   ]
  },
  {
   "cell_type": "markdown",
   "metadata": {},
   "source": [
    "> ##### Odstraním příznak ID"
   ]
  },
  {
   "cell_type": "code",
   "execution_count": 29,
   "metadata": {},
   "outputs": [],
   "source": [
    "X_eval = df_eval.drop('ID', axis=1)"
   ]
  },
  {
   "cell_type": "markdown",
   "metadata": {},
   "source": [
    "> ##### Pro normalizaci dat použíju **stejný** Min-max scaler"
   ]
  },
  {
   "cell_type": "code",
   "execution_count": 30,
   "metadata": {},
   "outputs": [],
   "source": [
    "X_eval_scaled = scaler.transform(X_eval)"
   ]
  },
  {
   "cell_type": "markdown",
   "metadata": {},
   "source": [
    "> ##### Použíju **stejný** PCA"
   ]
  },
  {
   "cell_type": "code",
   "execution_count": 31,
   "metadata": {
    "scrolled": true
   },
   "outputs": [],
   "source": [
    "X_eval_pca = pca.transform(X_eval_scaled)"
   ]
  },
  {
   "cell_type": "markdown",
   "metadata": {},
   "source": [
    "> ##### Udělám predikci pro dataset evaluate a výsledky uložím do souboru results.csv"
   ]
  },
  {
   "cell_type": "code",
   "execution_count": 32,
   "metadata": {},
   "outputs": [],
   "source": [
    "ypred_eval = best_SVM_PCA.predict(X_eval_pca)\n",
    "\n",
    "df_results = pd.DataFrame({\n",
    "    'ID': df_eval['ID'],\n",
    "    'label': ypred_eval\n",
    "})\n",
    "\n",
    "df_results.to_csv('results.csv', index=False)"
   ]
  },
  {
   "cell_type": "markdown",
   "metadata": {},
   "source": [
    "### Konec :)"
   ]
  }
 ],
 "metadata": {
  "kernelspec": {
   "display_name": "Python 3 (ipykernel)",
   "language": "python",
   "name": "python3"
  },
  "language_info": {
   "codemirror_mode": {
    "name": "ipython",
    "version": 3
   },
   "file_extension": ".py",
   "mimetype": "text/x-python",
   "name": "python",
   "nbconvert_exporter": "python",
   "pygments_lexer": "ipython3",
   "version": "3.10.12"
  }
 },
 "nbformat": 4,
 "nbformat_minor": 4
}
