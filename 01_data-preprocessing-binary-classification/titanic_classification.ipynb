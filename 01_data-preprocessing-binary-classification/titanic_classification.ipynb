{
 "cells": [
  {
   "cell_type": "markdown",
   "id": "39a4a2e3-9454-41b3-9765-c3575e7ddf22",
   "metadata": {},
   "source": [
    "# Úkol č. 1 - předzpracování dat a binární klasifikace\n",
    "\n",
    "* Termíny jsou uvedeny na [courses.fit.cvut.cz](https://courses.fit.cvut.cz/BI-ML1/homeworks/index.html).\n",
    "* Pokud odevzdáte úkol po prvním termínu ale před nejzašším termínem, budete penalizování -12 body, pozdější odevzdání je bez bodu.\n",
    "* V rámci tohoto úkolu se musíte vypořádat s klasifikační úlohou s příznaky různých typů.\n",
    "* Před tím, než na nich postavíte predikční model, je třeba je nějakým způsobem převést do číselné reprezentace.\n",
    "    \n",
    "> **Úkoly jsou zadány tak, aby Vám daly prostor pro invenci. Vymyslet _jak přesně_ budete úkol řešit, je důležitou součástí zadání a originalita či nápaditost bude také hodnocena!**\n",
    "\n",
    "Využívejte buňky typu `Markdown` k vysvětlování Vašeho postupu. Za nepřehlednost budeme strhávat body.\n",
    "\n",
    "## Zdroj dat\n",
    "\n",
    "Budeme se zabývat predikcí přežití pasažérů Titaniku.\n",
    "K dispozici máte trénovací data v souboru `data.csv` a data na vyhodnocení v souboru `evaluation.csv`.\n",
    "\n",
    "#### Seznam příznaků:\n",
    "* survived - zda pasažér přežil, 0 = Ne, 1 = Ano, **vysvětlovaná proměnná**, kterou chcete predikovat\n",
    "* pclass - Třída lodního lístku, 1 = první, 2 = druhá, 3 = třetí\n",
    "* name - jméno\n",
    "* sex - pohlaví\n",
    "* age - věk v letech\n",
    "* sibsp\t- počet sourozenců / manželů, manželek na palubě\n",
    "* parch - počet rodičů / dětí na palubě\n",
    "* ticket - číslo lodního lístku\n",
    "* fare - cena lodního lístku\n",
    "* cabin\t- číslo kajuty\n",
    "* embarked\t- místo nalodění, C = Cherbourg, Q = Queenstown, S = Southampton\n",
    "* home.dest - Bydliště/Cíl\n",
    "\n",
    "## Pokyny k vypracování\n",
    "\n",
    "**Body zadání**, za jejichž (poctivé) vypracování získáte **25 bodů**: \n",
    "  * V notebooku načtěte data ze souboru `data.csv`. Vhodným způsobem si je rozdělte na podmnožiny, které Vám poslouží pro trénování (trénovací), porovnávání modelů (validační) a následnou predikci výkonnosti finálního modelu (testovací).\n",
    "    \n",
    "  * Proveďte základní předzpracování dat:\n",
    "    * Projděte si jednotlivé příznaky a transformujte je do vhodné podoby pro použití ve vybraném klasifikačním modelu.\n",
    "    * Podle potřeby si můžete vytvářet nové příznaky (na základě existujících), například tedy můžete vytvořit příznak měřící délku jména atp.\n",
    "    * Některé příznaky můžete také úplně zahodit.\n",
    "    * Nějakým způsobem se vypořádejte s chybějícími hodnotami. _Pozor na metodické chyby!_\n",
    "    * Můžete využívat i vizualizace a vše stručně ale náležitě komentujte.\n",
    "\n",
    "  \n",
    "  * Na připravená data postupně aplikujte **rozhodovací strom** a **metodu nejbližších sousedů**, přičemž pro každý z těchto modelů:\n",
    "    * Okomentujte vhodnost daného modelu pro daný typ úlohy.\n",
    "    * Vyberte si hlavní hyperparametry k ladění a najděte jejich nejlepší hodnoty.\n",
    "    * Pro model s nejlepšími hodnotami hyperparametrů spočtěte F1 skóre, nakreslete ROC křivku a určete AUC. _Pozor na metodické chyby!_\n",
    "    * Získané výsledky vždy řádně okomentujte.\n",
    "\n",
    "        \n",
    "  * Ze všech zkoušených možností v předchozím kroku vyberte finální model a odhadněte, jakou přesnost můžete očekávat na nových datech, která jste doposud neměli k dispozici. _Pozor na metodické chyby!_\n",
    "    \n",
    "  * Nakonec načtěte vyhodnocovací data ze souboru`evaluation.csv`. Pomocí finálního modelu napočítejte predikce pro tyto data (vysvětlovaná proměnná v nich již není). Vytvořte soubor `results.csv`, ve kterém získané predikce uložíte do dvou sloupců: **ID**, **survived**. Tento soubor též odevzdejte (uložte do repozitáře vedle notebooku).\n",
    "\n",
    "  * Ukázka prvních řádků souboru `results.csv`:\n",
    "  \n",
    "```\n",
    "ID,survived\n",
    "1000,0\n",
    "1001,1\n",
    "...\n",
    "```\n",
    "\n",
    "## Poznámky k odevzdání\n",
    "\n",
    "  * Řiďte se pokyny ze stránky https://courses.fit.cvut.cz/BI-ML1/homeworks/index.html."
   ]
  },
  {
   "cell_type": "markdown",
   "id": "fcb3a16d-bfe6-4a76-9049-c59ecaf06d91",
   "metadata": {},
   "source": [
    "# Řešení"
   ]
  },
  {
   "cell_type": "markdown",
   "id": "4b95291c-7099-4b38-a4af-078950e64b85",
   "metadata": {},
   "source": [
    "## Zpracování dat"
   ]
  },
  {
   "cell_type": "markdown",
   "id": "fb8d7fcf-2a00-4e90-a964-bf8042552559",
   "metadata": {},
   "source": [
    "> ##### Naimportuju potřebné baličky"
   ]
  },
  {
   "cell_type": "code",
   "execution_count": 1,
   "id": "7ea6e76f-92d5-4f9d-8951-0f6e6558263b",
   "metadata": {},
   "outputs": [],
   "source": [
    "import math\n",
    "import pandas as pd\n",
    "import numpy as np\n",
    "import seaborn as sns\n",
    "import matplotlib\n",
    "import matplotlib.pyplot as plt\n",
    "%matplotlib inline\n",
    "from sklearn.model_selection import train_test_split\n",
    "from sklearn.tree import DecisionTreeClassifier\n",
    "from sklearn.neighbors import KNeighborsClassifier\n",
    "from sklearn.model_selection import ParameterGrid\n",
    "from sklearn.preprocessing import MinMaxScaler\n",
    "from sklearn.preprocessing import LabelEncoder\n",
    "import sklearn.metrics as metrics"
   ]
  },
  {
   "cell_type": "markdown",
   "id": "22806074-a69b-4cbb-acaf-d1378759be7e",
   "metadata": {},
   "source": [
    "> ##### Načteme dataset"
   ]
  },
  {
   "cell_type": "code",
   "execution_count": 2,
   "id": "436bb6c5-0312-4b67-86b8-e80035155bf6",
   "metadata": {},
   "outputs": [],
   "source": [
    "df = pd.read_csv(\"data.csv\")"
   ]
  },
  {
   "cell_type": "markdown",
   "id": "da8d4fc5-d85a-4100-941b-159aa837e122",
   "metadata": {},
   "source": [
    "> ##### Podíváme se jak dataset vypadá"
   ]
  },
  {
   "cell_type": "code",
   "execution_count": 3,
   "id": "a94ae262-ccb9-4e51-bc56-d12045f74037",
   "metadata": {},
   "outputs": [
    {
     "data": {
      "text/html": [
       "<div>\n",
       "<style scoped>\n",
       "    .dataframe tbody tr th:only-of-type {\n",
       "        vertical-align: middle;\n",
       "    }\n",
       "\n",
       "    .dataframe tbody tr th {\n",
       "        vertical-align: top;\n",
       "    }\n",
       "\n",
       "    .dataframe thead th {\n",
       "        text-align: right;\n",
       "    }\n",
       "</style>\n",
       "<table border=\"1\" class=\"dataframe\">\n",
       "  <thead>\n",
       "    <tr style=\"text-align: right;\">\n",
       "      <th></th>\n",
       "      <th>ID</th>\n",
       "      <th>survived</th>\n",
       "      <th>pclass</th>\n",
       "      <th>name</th>\n",
       "      <th>sex</th>\n",
       "      <th>age</th>\n",
       "      <th>sibsp</th>\n",
       "      <th>parch</th>\n",
       "      <th>ticket</th>\n",
       "      <th>fare</th>\n",
       "      <th>cabin</th>\n",
       "      <th>embarked</th>\n",
       "      <th>home.dest</th>\n",
       "    </tr>\n",
       "  </thead>\n",
       "  <tbody>\n",
       "    <tr>\n",
       "      <th>0</th>\n",
       "      <td>0</td>\n",
       "      <td>0</td>\n",
       "      <td>3</td>\n",
       "      <td>Goodwin, Master. William Frederick</td>\n",
       "      <td>male</td>\n",
       "      <td>11.0</td>\n",
       "      <td>5</td>\n",
       "      <td>2</td>\n",
       "      <td>CA 2144</td>\n",
       "      <td>46.9000</td>\n",
       "      <td>NaN</td>\n",
       "      <td>S</td>\n",
       "      <td>Wiltshire, England Niagara Falls, NY</td>\n",
       "    </tr>\n",
       "    <tr>\n",
       "      <th>1</th>\n",
       "      <td>1</td>\n",
       "      <td>0</td>\n",
       "      <td>3</td>\n",
       "      <td>Jardin, Mr. Jose Neto</td>\n",
       "      <td>male</td>\n",
       "      <td>NaN</td>\n",
       "      <td>0</td>\n",
       "      <td>0</td>\n",
       "      <td>SOTON/O.Q. 3101305</td>\n",
       "      <td>7.0500</td>\n",
       "      <td>NaN</td>\n",
       "      <td>S</td>\n",
       "      <td>NaN</td>\n",
       "    </tr>\n",
       "    <tr>\n",
       "      <th>2</th>\n",
       "      <td>2</td>\n",
       "      <td>0</td>\n",
       "      <td>3</td>\n",
       "      <td>Skoog, Master. Harald</td>\n",
       "      <td>male</td>\n",
       "      <td>4.0</td>\n",
       "      <td>3</td>\n",
       "      <td>2</td>\n",
       "      <td>347088</td>\n",
       "      <td>27.9000</td>\n",
       "      <td>NaN</td>\n",
       "      <td>S</td>\n",
       "      <td>NaN</td>\n",
       "    </tr>\n",
       "    <tr>\n",
       "      <th>3</th>\n",
       "      <td>3</td>\n",
       "      <td>1</td>\n",
       "      <td>3</td>\n",
       "      <td>O'Brien, Mrs. Thomas (Johanna \"Hannah\" Godfrey)</td>\n",
       "      <td>female</td>\n",
       "      <td>NaN</td>\n",
       "      <td>1</td>\n",
       "      <td>0</td>\n",
       "      <td>370365</td>\n",
       "      <td>15.5000</td>\n",
       "      <td>NaN</td>\n",
       "      <td>Q</td>\n",
       "      <td>NaN</td>\n",
       "    </tr>\n",
       "    <tr>\n",
       "      <th>4</th>\n",
       "      <td>4</td>\n",
       "      <td>1</td>\n",
       "      <td>3</td>\n",
       "      <td>Abrahim, Mrs. Joseph (Sophie Halaut Easu)</td>\n",
       "      <td>female</td>\n",
       "      <td>18.0</td>\n",
       "      <td>0</td>\n",
       "      <td>0</td>\n",
       "      <td>2657</td>\n",
       "      <td>7.2292</td>\n",
       "      <td>NaN</td>\n",
       "      <td>C</td>\n",
       "      <td>Greensburg, PA</td>\n",
       "    </tr>\n",
       "  </tbody>\n",
       "</table>\n",
       "</div>"
      ],
      "text/plain": [
       "   ID  survived  pclass                                             name  \\\n",
       "0   0         0       3               Goodwin, Master. William Frederick   \n",
       "1   1         0       3                            Jardin, Mr. Jose Neto   \n",
       "2   2         0       3                            Skoog, Master. Harald   \n",
       "3   3         1       3  O'Brien, Mrs. Thomas (Johanna \"Hannah\" Godfrey)   \n",
       "4   4         1       3        Abrahim, Mrs. Joseph (Sophie Halaut Easu)   \n",
       "\n",
       "      sex   age  sibsp  parch              ticket     fare cabin embarked  \\\n",
       "0    male  11.0      5      2             CA 2144  46.9000   NaN        S   \n",
       "1    male   NaN      0      0  SOTON/O.Q. 3101305   7.0500   NaN        S   \n",
       "2    male   4.0      3      2              347088  27.9000   NaN        S   \n",
       "3  female   NaN      1      0              370365  15.5000   NaN        Q   \n",
       "4  female  18.0      0      0                2657   7.2292   NaN        C   \n",
       "\n",
       "                              home.dest  \n",
       "0  Wiltshire, England Niagara Falls, NY  \n",
       "1                                   NaN  \n",
       "2                                   NaN  \n",
       "3                                   NaN  \n",
       "4                        Greensburg, PA  "
      ]
     },
     "execution_count": 3,
     "metadata": {},
     "output_type": "execute_result"
    }
   ],
   "source": [
    "df.head()"
   ]
  },
  {
   "cell_type": "markdown",
   "id": "7116d991-d306-45ae-a624-659463b43e6a",
   "metadata": {},
   "source": [
    "> ##### Podíváme se na rovnováhu vysvětlované proměnné"
   ]
  },
  {
   "cell_type": "code",
   "execution_count": 4,
   "id": "c35f528e-fc4d-4999-bcbc-3d9dfd3b2fb7",
   "metadata": {},
   "outputs": [
    {
     "data": {
      "text/plain": [
       "survived\n",
       "0    0.602\n",
       "1    0.398\n",
       "Name: proportion, dtype: float64"
      ]
     },
     "execution_count": 4,
     "metadata": {},
     "output_type": "execute_result"
    }
   ],
   "source": [
    "df.survived.value_counts(normalize=True)"
   ]
  },
  {
   "cell_type": "markdown",
   "id": "8f663f30-c4a5-4ce5-a2d7-74523930aa0a",
   "metadata": {},
   "source": [
    "> ##### 👆Vidíme, že data nemají velkou disbalanci."
   ]
  },
  {
   "cell_type": "markdown",
   "id": "1e5d1cc1-f960-4fe7-9ccb-7733dc284fb1",
   "metadata": {},
   "source": [
    "> ##### Podíváme se na informace o datasetu"
   ]
  },
  {
   "cell_type": "code",
   "execution_count": 5,
   "id": "d82d82e1-0d41-4d2f-9dab-0cb9ddda7aed",
   "metadata": {},
   "outputs": [
    {
     "data": {
      "text/plain": [
       "(1000, 13)"
      ]
     },
     "execution_count": 5,
     "metadata": {},
     "output_type": "execute_result"
    }
   ],
   "source": [
    "df.shape"
   ]
  },
  {
   "cell_type": "code",
   "execution_count": 6,
   "id": "41cf779a-bb5f-4451-b5ab-094fc98148b3",
   "metadata": {},
   "outputs": [
    {
     "data": {
      "text/plain": [
       "ID             int64\n",
       "survived       int64\n",
       "pclass         int64\n",
       "name          object\n",
       "sex           object\n",
       "age          float64\n",
       "sibsp          int64\n",
       "parch          int64\n",
       "ticket        object\n",
       "fare         float64\n",
       "cabin         object\n",
       "embarked      object\n",
       "home.dest     object\n",
       "dtype: object"
      ]
     },
     "execution_count": 6,
     "metadata": {},
     "output_type": "execute_result"
    }
   ],
   "source": [
    "df.dtypes"
   ]
  },
  {
   "cell_type": "code",
   "execution_count": 7,
   "id": "735bcd59-c375-4bd1-a01b-c01edcb6be65",
   "metadata": {},
   "outputs": [
    {
     "data": {
      "text/plain": [
       "ID           1000\n",
       "survived        2\n",
       "pclass          3\n",
       "name          999\n",
       "sex             2\n",
       "age            95\n",
       "sibsp           7\n",
       "parch           8\n",
       "ticket        746\n",
       "fare          254\n",
       "cabin         157\n",
       "embarked        3\n",
       "home.dest     313\n",
       "dtype: int64"
      ]
     },
     "execution_count": 7,
     "metadata": {},
     "output_type": "execute_result"
    }
   ],
   "source": [
    "df.nunique()"
   ]
  },
  {
   "cell_type": "code",
   "execution_count": 8,
   "id": "2cd3389c-1452-4e5d-92dd-16d55d28cad4",
   "metadata": {},
   "outputs": [
    {
     "name": "stdout",
     "output_type": "stream",
     "text": [
      "<class 'pandas.core.frame.DataFrame'>\n",
      "RangeIndex: 1000 entries, 0 to 999\n",
      "Data columns (total 13 columns):\n",
      " #   Column     Non-Null Count  Dtype  \n",
      "---  ------     --------------  -----  \n",
      " 0   ID         1000 non-null   int64  \n",
      " 1   survived   1000 non-null   int64  \n",
      " 2   pclass     1000 non-null   int64  \n",
      " 3   name       1000 non-null   object \n",
      " 4   sex        1000 non-null   object \n",
      " 5   age        802 non-null    float64\n",
      " 6   sibsp      1000 non-null   int64  \n",
      " 7   parch      1000 non-null   int64  \n",
      " 8   ticket     1000 non-null   object \n",
      " 9   fare       999 non-null    float64\n",
      " 10  cabin      233 non-null    object \n",
      " 11  embarked   998 non-null    object \n",
      " 12  home.dest  566 non-null    object \n",
      "dtypes: float64(2), int64(5), object(6)\n",
      "memory usage: 101.7+ KB\n"
     ]
    }
   ],
   "source": [
    "df.info()"
   ]
  },
  {
   "cell_type": "markdown",
   "id": "a8ca9995-e6f5-472d-a0a9-7f8ab9071f0b",
   "metadata": {},
   "source": [
    "> ##### Smažu sloupce které podle mě nemají vliv na predikci"
   ]
  },
  {
   "cell_type": "code",
   "execution_count": 9,
   "id": "0c00af8c-7a03-47a6-9e44-cd1c759e0190",
   "metadata": {},
   "outputs": [],
   "source": [
    " df.drop(columns=[\"ID\", \"name\", \"ticket\", \"cabin\", \"home.dest\"], inplace=True)"
   ]
  },
  {
   "cell_type": "markdown",
   "id": "cb7fa3b7-c328-4433-817e-aceca8bf7e07",
   "metadata": {},
   "source": [
    "> ##### Zkontrolujeme všechny přiznaky na prazdné hodnoty"
   ]
  },
  {
   "cell_type": "code",
   "execution_count": 10,
   "id": "32e6644f-99da-4a8f-a746-4a65f23a5d68",
   "metadata": {},
   "outputs": [
    {
     "name": "stdout",
     "output_type": "stream",
     "text": [
      "Přiznak survived: 0 prázdných hodnot\n",
      "Přiznak pclass: 0 prázdných hodnot\n",
      "Přiznak sex: 0 prázdných hodnot\n",
      "Přiznak age: 0 prázdných hodnot\n",
      "Přiznak sibsp: 0 prázdných hodnot\n",
      "Přiznak parch: 0 prázdných hodnot\n",
      "Přiznak fare: 0 prázdných hodnot\n",
      "Přiznak embarked: 0 prázdných hodnot\n"
     ]
    }
   ],
   "source": [
    "words = [\"Unknown\", \"N/A\", \"None\", \"-\", \"?\", \"\"] # co tam asi muze byt\n",
    "word_stats = {}\n",
    "\n",
    "for col in df.columns:\n",
    "    count = 0\n",
    "    for word in words:\n",
    "        count += (df[col] == word).sum()\n",
    "    word_stats[col] = count\n",
    "\n",
    "for col, count in word_stats.items():\n",
    "    print(f\"Přiznak {col}: {count} prázdných hodnot\")"
   ]
  },
  {
   "cell_type": "markdown",
   "id": "5c04e10a-87df-46bd-ada5-24019de8dea6",
   "metadata": {},
   "source": [
    "> ##### Podíváme se jaké jsou nečíselné příznaky"
   ]
  },
  {
   "cell_type": "code",
   "execution_count": 11,
   "id": "8114da27-37aa-412b-9a95-fa3072ce7833",
   "metadata": {},
   "outputs": [
    {
     "name": "stdout",
     "output_type": "stream",
     "text": [
      "Index(['sex', 'embarked'], dtype='object')\n"
     ]
    },
    {
     "data": {
      "text/plain": [
       "sex         2\n",
       "embarked    3\n",
       "dtype: int64"
      ]
     },
     "execution_count": 11,
     "metadata": {},
     "output_type": "execute_result"
    }
   ],
   "source": [
    "string_columns = df.select_dtypes(['object']).columns\n",
    "print(string_columns)\n",
    "df[string_columns].nunique()"
   ]
  },
  {
   "cell_type": "markdown",
   "id": "4330f96b-8c6c-4e73-b8c0-2af97f0479a1",
   "metadata": {},
   "source": [
    "> ##### Tyto příznaky jsou kategorické, jejich typ změním na category a nahradím je číselnými kódy"
   ]
  },
  {
   "cell_type": "code",
   "execution_count": 12,
   "id": "f4464b1a-97d2-4b2f-bbd9-cdc7b6b82c04",
   "metadata": {},
   "outputs": [],
   "source": [
    "# df[string_columns] = df[string_columns].astype('category').apply(lambda x: x.cat.codes)\n",
    "\n",
    "label_encoders = {}\n",
    "\n",
    "for column in string_columns:\n",
    "    label_encoders[column] = LabelEncoder()\n",
    "    df[column] = label_encoders[column].fit_transform(df[column])"
   ]
  },
  {
   "cell_type": "markdown",
   "id": "92700347-9c89-4ec4-b8e3-4d0ca6b91ea4",
   "metadata": {},
   "source": [
    "> ##### 👆 Zde používám LabelEncoder, abych mohl při evaluaci použít stejné kódování proměnných"
   ]
  },
  {
   "cell_type": "markdown",
   "id": "ad497c86-bd57-47a5-815a-f07d95cf34db",
   "metadata": {},
   "source": [
    "> ##### Rozdělím data"
   ]
  },
  {
   "cell_type": "code",
   "execution_count": 13,
   "id": "844464a9-c816-48d8-b18f-0a4e0a343786",
   "metadata": {},
   "outputs": [],
   "source": [
    "Xdata = df.drop(\"survived\", axis = 1)\n",
    "ydata = df.survived"
   ]
  },
  {
   "cell_type": "code",
   "execution_count": 14,
   "id": "eac203bc-78e1-4866-92ad-76150c46cb2d",
   "metadata": {},
   "outputs": [],
   "source": [
    "random_seed = 111\n",
    "# train = 60% val = 20% test = 20%\n",
    "Xtrain, Xtest, ytrain, ytest = train_test_split(Xdata, ydata, test_size=0.4, random_state=random_seed) \n",
    "Xval, Xtest, yval, ytest = train_test_split(Xtest, ytest, test_size=0.5, random_state=random_seed) "
   ]
  },
  {
   "cell_type": "markdown",
   "id": "7ad57a47-ab35-4229-a296-60a1f8628f39",
   "metadata": {},
   "source": [
    "> ##### V přiznaku ***age*** všech datových skupin nahradím \"Nan\" mediánem z trénovacích dat, aby se zabránilo úniku testovacích dat do trénovacích"
   ]
  },
  {
   "cell_type": "code",
   "execution_count": 15,
   "id": "8c6b0209-e77f-4ecb-a447-b9c7433933b0",
   "metadata": {},
   "outputs": [],
   "source": [
    "age_median = Xtrain[\"age\"].median()\n",
    "Xtrain[\"age\"] = Xtrain[\"age\"].fillna(age_median)\n",
    "Xval[\"age\"] = Xval[\"age\"].fillna(age_median)\n",
    "Xtest[\"age\"] = Xtest[\"age\"].fillna(age_median)"
   ]
  },
  {
   "cell_type": "markdown",
   "id": "108c10a2-0daf-41a2-9ea3-2d3efb3e2115",
   "metadata": {},
   "source": [
    "> ##### Obdobně v přiznaku ***fare***"
   ]
  },
  {
   "cell_type": "code",
   "execution_count": 16,
   "id": "5015d26d-c086-4225-b220-da9d1fb69cf0",
   "metadata": {},
   "outputs": [],
   "source": [
    "fare_median = Xtrain[\"fare\"].median()\n",
    "Xtrain[\"fare\"] = Xtrain[\"fare\"].fillna(fare_median)\n",
    "Xval[\"fare\"] = Xval[\"fare\"].fillna(fare_median)\n",
    "Xtest[\"fare\"] = Xtest[\"fare\"].fillna(fare_median)"
   ]
  },
  {
   "cell_type": "markdown",
   "id": "70128b8a-07c7-4d9b-bcba-21fe022ef420",
   "metadata": {},
   "source": [
    "> ##### Vyměmím zbylé nan na -1"
   ]
  },
  {
   "cell_type": "code",
   "execution_count": 17,
   "id": "a422927b-48fa-4bca-b311-dddd0210737e",
   "metadata": {},
   "outputs": [],
   "source": [
    "Xtrain = Xtrain.replace(np.nan, -1)\n",
    "Xval = Xval.replace(np.nan, -1)\n",
    "Xtest = Xtest.replace(np.nan, -1)"
   ]
  },
  {
   "cell_type": "markdown",
   "id": "9af24c18-2f08-4056-86ad-358c671a9258",
   "metadata": {},
   "source": [
    "## Decision tree"
   ]
  },
  {
   "cell_type": "markdown",
   "id": "672a9b46-a7b9-4006-a172-72ac1f6be5d6",
   "metadata": {},
   "source": [
    "> ##### Podíváme se na hyperparametry stromu"
   ]
  },
  {
   "cell_type": "code",
   "execution_count": 18,
   "id": "d9cfd4a9-816a-4e30-b788-d6664d7fde48",
   "metadata": {},
   "outputs": [
    {
     "data": {
      "text/plain": [
       "{'ccp_alpha': 0.0,\n",
       " 'class_weight': None,\n",
       " 'criterion': 'gini',\n",
       " 'max_depth': None,\n",
       " 'max_features': None,\n",
       " 'max_leaf_nodes': None,\n",
       " 'min_impurity_decrease': 0.0,\n",
       " 'min_samples_leaf': 1,\n",
       " 'min_samples_split': 2,\n",
       " 'min_weight_fraction_leaf': 0.0,\n",
       " 'random_state': None,\n",
       " 'splitter': 'best'}"
      ]
     },
     "execution_count": 18,
     "metadata": {},
     "output_type": "execute_result"
    }
   ],
   "source": [
    "DecisionTreeClassifier().get_params()"
   ]
  },
  {
   "cell_type": "markdown",
   "id": "a01bcfec-8d5f-44d2-b9bb-a15ae2c09f24",
   "metadata": {},
   "source": [
    "> ##### Vyberu možnosti hyperparametrů, které budu ladit"
   ]
  },
  {
   "cell_type": "code",
   "execution_count": 19,
   "id": "f8ce70db-f213-4cb6-b777-82c8ed035838",
   "metadata": {},
   "outputs": [],
   "source": [
    "depths = range(1,31)\n",
    "param_grid = {\n",
    "    'max_depth': depths,\n",
    "    'criterion': ['entropy', 'gini']}\n",
    "\n",
    "param_comb = ParameterGrid(param_grid)"
   ]
  },
  {
   "cell_type": "markdown",
   "id": "50018809-a9a8-4ebe-a557-48ba2640a5e6",
   "metadata": {},
   "source": [
    "> ##### Pro každou kombinaci hyperparametrů zapíšu přesnost modelu do pole"
   ]
  },
  {
   "cell_type": "code",
   "execution_count": 20,
   "id": "510c5e54-94b9-4f76-9a97-5a274765e8c0",
   "metadata": {},
   "outputs": [],
   "source": [
    "# pole delam abych mohl vykreslit graf\n",
    "train_accuracy = [] # pole pro presnosti na trenovaci mnozine\n",
    "val_accuracy = [] # pole pro presnosti na validacni mnozine\n",
    "train_accuracy_gini = [] # pole pro presnosti na trenovaci mnozine s indexem gini\n",
    "val_accuracy_gini = [] # pole pro presnosti na validacni mnozine s indexem gini\n",
    "best_params = None\n",
    "best_score = 0\n",
    "\n",
    "for params in param_comb:\n",
    "    model = DecisionTreeClassifier(**params)\n",
    "    model.fit(Xtrain, ytrain)\n",
    "    if params['criterion'] == \"entropy\":\n",
    "        train_accuracy.append(metrics.accuracy_score(ytrain, model.predict(Xtrain)))\n",
    "        score = metrics.accuracy_score(yval, model.predict(Xval))\n",
    "        val_accuracy.append(score)\n",
    "    else:\n",
    "        train_accuracy_gini.append(metrics.accuracy_score(ytrain, model.predict(Xtrain)))\n",
    "        score = metrics.accuracy_score(yval, model.predict(Xval))\n",
    "        val_accuracy_gini.append(score)\n",
    "    if score > best_score:\n",
    "        best_score = score\n",
    "        best_params = params"
   ]
  },
  {
   "cell_type": "markdown",
   "id": "f46763ee-0c47-47a2-820d-4065c4e4abf1",
   "metadata": {},
   "source": [
    "> ##### Vykreslime graf pro srovnavani presnosti na obou mnozinach"
   ]
  },
  {
   "cell_type": "code",
   "execution_count": 21,
   "id": "b4e75fdf-601c-422d-b477-fd922839f5bf",
   "metadata": {},
   "outputs": [
    {
     "data": {
      "image/png": "[encoded data removed]",
      "text/plain": [
       "<Figure size 1800x600 with 1 Axes>"
      ]
     },
     "metadata": {},
     "output_type": "display_data"
    }
   ],
   "source": [
    "sns.set(style=\"whitegrid\")\n",
    "fig, ax = plt.subplots(figsize=(18,6))\n",
    "ax.plot(depths, train_accuracy, 'og-', label='train')\n",
    "ax.plot(depths, val_accuracy, 'oy-', label=\"validation\")\n",
    "ax.plot(depths, train_accuracy_gini, 'or-', label='train gini')\n",
    "ax.plot(depths, val_accuracy_gini, 'ob-', label=\"validation gini\")\n",
    "ax.set_xlabel('max_depth')\n",
    "ax.set_ylabel('accuracy')\n",
    "ax.legend();"
   ]
  },
  {
   "cell_type": "markdown",
   "id": "685107b4-27de-4e05-bb0f-aca192a238b9",
   "metadata": {},
   "source": [
    "> ##### 👆Zde je vidět, že v určitém okamžiku se model začne přeučovat a přesnost na trénovacích datech roste, ale na validačních datech již klesá."
   ]
  },
  {
   "cell_type": "markdown",
   "id": "ae7596c9-6f54-4845-bb9c-eebd2d0264f0",
   "metadata": {},
   "source": [
    "> ##### Podíváme se na nejlepší hyperparametry"
   ]
  },
  {
   "cell_type": "code",
   "execution_count": 22,
   "id": "9fe1d40b-acff-4d09-a1de-239e83c0fc64",
   "metadata": {},
   "outputs": [
    {
     "data": {
      "text/plain": [
       "{'criterion': 'entropy', 'max_depth': 4}"
      ]
     },
     "execution_count": 22,
     "metadata": {},
     "output_type": "execute_result"
    }
   ],
   "source": [
    "best_params"
   ]
  },
  {
   "cell_type": "markdown",
   "id": "b8bbadfe-88a1-4817-82df-215c99256941",
   "metadata": {},
   "source": [
    "> ##### Nafitujeme model s nejlepšími hyperparametry"
   ]
  },
  {
   "cell_type": "code",
   "execution_count": 23,
   "id": "475aa020-0474-4ce7-83f1-1b23857bdfe6",
   "metadata": {},
   "outputs": [
    {
     "data": {
      "text/html": [
       "<style>#sk-container-id-1 {color: black;}#sk-container-id-1 pre{padding: 0;}#sk-container-id-1 div.sk-toggleable {background-color: white;}#sk-container-id-1 label.sk-toggleable__label {cursor: pointer;display: block;width: 100%;margin-bottom: 0;padding: 0.3em;box-sizing: border-box;text-align: center;}#sk-container-id-1 label.sk-toggleable__label-arrow:before {content: \"▸\";float: left;margin-right: 0.25em;color: #696969;}#sk-container-id-1 label.sk-toggleable__label-arrow:hover:before {color: black;}#sk-container-id-1 div.sk-estimator:hover label.sk-toggleable__label-arrow:before {color: black;}#sk-container-id-1 div.sk-toggleable__content {max-height: 0;max-width: 0;overflow: hidden;text-align: left;background-color: #f0f8ff;}#sk-container-id-1 div.sk-toggleable__content pre {margin: 0.2em;color: black;border-radius: 0.25em;background-color: #f0f8ff;}#sk-container-id-1 input.sk-toggleable__control:checked~div.sk-toggleable__content {max-height: 200px;max-width: 100%;overflow: auto;}#sk-container-id-1 input.sk-toggleable__control:checked~label.sk-toggleable__label-arrow:before {content: \"▾\";}#sk-container-id-1 div.sk-estimator input.sk-toggleable__control:checked~label.sk-toggleable__label {background-color: #d4ebff;}#sk-container-id-1 div.sk-label input.sk-toggleable__control:checked~label.sk-toggleable__label {background-color: #d4ebff;}#sk-container-id-1 input.sk-hidden--visually {border: 0;clip: rect(1px 1px 1px 1px);clip: rect(1px, 1px, 1px, 1px);height: 1px;margin: -1px;overflow: hidden;padding: 0;position: absolute;width: 1px;}#sk-container-id-1 div.sk-estimator {font-family: monospace;background-color: #f0f8ff;border: 1px dotted black;border-radius: 0.25em;box-sizing: border-box;margin-bottom: 0.5em;}#sk-container-id-1 div.sk-estimator:hover {background-color: #d4ebff;}#sk-container-id-1 div.sk-parallel-item::after {content: \"\";width: 100%;border-bottom: 1px solid gray;flex-grow: 1;}#sk-container-id-1 div.sk-label:hover label.sk-toggleable__label {background-color: #d4ebff;}#sk-container-id-1 div.sk-serial::before {content: \"\";position: absolute;border-left: 1px solid gray;box-sizing: border-box;top: 0;bottom: 0;left: 50%;z-index: 0;}#sk-container-id-1 div.sk-serial {display: flex;flex-direction: column;align-items: center;background-color: white;padding-right: 0.2em;padding-left: 0.2em;position: relative;}#sk-container-id-1 div.sk-item {position: relative;z-index: 1;}#sk-container-id-1 div.sk-parallel {display: flex;align-items: stretch;justify-content: center;background-color: white;position: relative;}#sk-container-id-1 div.sk-item::before, #sk-container-id-1 div.sk-parallel-item::before {content: \"\";position: absolute;border-left: 1px solid gray;box-sizing: border-box;top: 0;bottom: 0;left: 50%;z-index: -1;}#sk-container-id-1 div.sk-parallel-item {display: flex;flex-direction: column;z-index: 1;position: relative;background-color: white;}#sk-container-id-1 div.sk-parallel-item:first-child::after {align-self: flex-end;width: 50%;}#sk-container-id-1 div.sk-parallel-item:last-child::after {align-self: flex-start;width: 50%;}#sk-container-id-1 div.sk-parallel-item:only-child::after {width: 0;}#sk-container-id-1 div.sk-dashed-wrapped {border: 1px dashed gray;margin: 0 0.4em 0.5em 0.4em;box-sizing: border-box;padding-bottom: 0.4em;background-color: white;}#sk-container-id-1 div.sk-label label {font-family: monospace;font-weight: bold;display: inline-block;line-height: 1.2em;}#sk-container-id-1 div.sk-label-container {text-align: center;}#sk-container-id-1 div.sk-container {/* jupyter's `normalize.less` sets `[hidden] { display: none; }` but bootstrap.min.css set `[hidden] { display: none !important; }` so we also need the `!important` here to be able to override the default hidden behavior on the sphinx rendered scikit-learn.org. See: https://github.com/scikit-learn/scikit-learn/issues/21755 */display: inline-block !important;position: relative;}#sk-container-id-1 div.sk-text-repr-fallback {display: none;}</style><div id=\"sk-container-id-1\" class=\"sk-top-container\"><div class=\"sk-text-repr-fallback\"><pre>DecisionTreeClassifier(criterion=&#x27;entropy&#x27;, max_depth=4)</pre><b>In a Jupyter environment, please rerun this cell to show the HTML representation or trust the notebook. <br />On GitHub, the HTML representation is unable to render, please try loading this page with nbviewer.org.</b></div><div class=\"sk-container\" hidden><div class=\"sk-item\"><div class=\"sk-estimator sk-toggleable\"><input class=\"sk-toggleable__control sk-hidden--visually\" id=\"sk-estimator-id-1\" type=\"checkbox\" checked><label for=\"sk-estimator-id-1\" class=\"sk-toggleable__label sk-toggleable__label-arrow\">DecisionTreeClassifier</label><div class=\"sk-toggleable__content\"><pre>DecisionTreeClassifier(criterion=&#x27;entropy&#x27;, max_depth=4)</pre></div></div></div></div></div>"
      ],
      "text/plain": [
       "DecisionTreeClassifier(criterion='entropy', max_depth=4)"
      ]
     },
     "execution_count": 23,
     "metadata": {},
     "output_type": "execute_result"
    }
   ],
   "source": [
    "tree_model = DecisionTreeClassifier(**best_params)\n",
    "tree_model.fit(Xtrain, ytrain)"
   ]
  },
  {
   "cell_type": "markdown",
   "id": "2e7e4c10-c28f-483c-ab89-908aa7f57086",
   "metadata": {},
   "source": [
    "> ##### Podíváme se na přesnost nejlepšího modelu"
   ]
  },
  {
   "cell_type": "code",
   "execution_count": 24,
   "id": "9193e2d9-d507-4092-a354-b3e067a9bb54",
   "metadata": {},
   "outputs": [
    {
     "name": "stdout",
     "output_type": "stream",
     "text": [
      "accuracy score (train): 0.841667\n",
      "accuracy score (validation): 0.805000\n",
      "accuracy score (test): 0.735000\n"
     ]
    }
   ],
   "source": [
    "print('accuracy score (train): {0:.6f}'.format(metrics.accuracy_score(ytrain, tree_model.predict(Xtrain))))\n",
    "print('accuracy score (validation): {0:.6f}'.format(metrics.accuracy_score(yval, tree_model.predict(Xval))))\n",
    "print('accuracy score (test): {0:.6f}'.format(metrics.accuracy_score(ytest, tree_model.predict(Xtest))))"
   ]
  },
  {
   "cell_type": "markdown",
   "id": "b6f2b254-40e2-4eaa-af9a-0a0c40f94e16",
   "metadata": {},
   "source": [
    "> ##### Vypočítám F1 skóre pro strom"
   ]
  },
  {
   "cell_type": "code",
   "execution_count": 25,
   "id": "17141985-0993-495e-a0f5-41b4db545e79",
   "metadata": {},
   "outputs": [
    {
     "name": "stdout",
     "output_type": "stream",
     "text": [
      "F1 score (test): 0.6074\n"
     ]
    }
   ],
   "source": [
    "print(f'F1 score (test): {metrics.f1_score(ytest, tree_model.predict(Xtest)):.4f}')"
   ]
  },
  {
   "cell_type": "markdown",
   "id": "686dd54f-d642-41b0-b920-ffdda3a35e83",
   "metadata": {},
   "source": [
    "> ##### Nakreslím ROC křivku a určím AUC pro strom"
   ]
  },
  {
   "cell_type": "code",
   "execution_count": 26,
   "id": "8683af0a-97f4-4e20-8e1d-394d70cb1b9a",
   "metadata": {},
   "outputs": [],
   "source": [
    "y_pred_proba = tree_model.predict_proba(Xtest) # spocitame pravdepodobnosti pro kazdy radek\n",
    "p1_hat = y_pred_proba[:,1] # vezmeme pravdepodobnost pro kladnou tridu (pravdepodobnost, ze mame 1)"
   ]
  },
  {
   "cell_type": "code",
   "execution_count": 27,
   "id": "c333a9bb-8017-4260-b260-721d8eda24a9",
   "metadata": {},
   "outputs": [
    {
     "data": {
      "image/png": "[encoded data removed]",
      "text/plain": [
       "<Figure size 640x480 with 1 Axes>"
      ]
     },
     "metadata": {},
     "output_type": "display_data"
    }
   ],
   "source": [
    "fpr, tpr, thresholds = metrics.roc_curve(ytest, p1_hat) # spocitame False Positive Rate, True Positive Rate a thresholdy\n",
    " \n",
    "AUC = metrics.auc(fpr, tpr)\n",
    "\n",
    "plt.figure()\n",
    "plt.plot([0, 1], [0, 1], color=\"navy\", lw=2, linestyle=\"--\")\n",
    "plt.plot(fpr, tpr, color=\"darkorange\", lw=2, label = f\"ROC křivka (AUC = {AUC:.3f})\")\n",
    "plt.xlim([0.0, 1.0])\n",
    "plt.ylim([0.0, 1.0])\n",
    "plt.xlabel(\"False Positive Rate\")\n",
    "plt.ylabel(\"True Positive Rate\")\n",
    "plt.title(\"ROC křivka\")\n",
    "plt.legend(loc=\"lower right\");"
   ]
  },
  {
   "cell_type": "markdown",
   "id": "09a816cc-d4a4-4dcc-884b-d3472168bb58",
   "metadata": {},
   "source": [
    "> ##### Hodnota AUC = 0,786 je dobrá ale není perfektní, což naznačuje, že v modelu ještě je prostor pro zlepšení"
   ]
  },
  {
   "cell_type": "markdown",
   "id": "4bde5f15-c9fc-4a6c-b61b-9c146a675bea",
   "metadata": {
    "jp-MarkdownHeadingCollapsed": true
   },
   "source": [
    "### Argumenty pro a proti Decision Tree  \n",
    "\n",
    "#### Pro👍: \n",
    "- Zpracování kategorických dat - Dobře zpracovávají kategorické proměnné, což je užitečné.\n",
    "- Detekce významných proměnných - Automaticky vybírají důležité proměnné, což je pro analýzu dat výhodné.\n",
    "  \n",
    "#### Proti👎:\n",
    "- Sklon k přeučení - Mohou být náchylné k přeučení, pokud jsou data příliš komplikovaná."
   ]
  },
  {
   "cell_type": "markdown",
   "id": "b2681f2d-ed90-4f15-b7a0-4c0f74deac9e",
   "metadata": {},
   "source": [
    "## KNN"
   ]
  },
  {
   "cell_type": "markdown",
   "id": "e23f6199-ee33-4b6c-ae61-d2e98c342b44",
   "metadata": {},
   "source": [
    "> ##### Podíváme se na hyperparametry KNN"
   ]
  },
  {
   "cell_type": "code",
   "execution_count": 28,
   "id": "196616c8-d956-4635-948c-70c7d0db9fea",
   "metadata": {},
   "outputs": [
    {
     "data": {
      "text/plain": [
       "{'algorithm': 'auto',\n",
       " 'leaf_size': 30,\n",
       " 'metric': 'minkowski',\n",
       " 'metric_params': None,\n",
       " 'n_jobs': None,\n",
       " 'n_neighbors': 5,\n",
       " 'p': 2,\n",
       " 'weights': 'uniform'}"
      ]
     },
     "execution_count": 28,
     "metadata": {},
     "output_type": "execute_result"
    }
   ],
   "source": [
    "KNeighborsClassifier().get_params()"
   ]
  },
  {
   "cell_type": "markdown",
   "id": "bb5b88b0-fb41-4b33-a0a7-4eca61996163",
   "metadata": {},
   "source": [
    "> ##### Vyberu možnosti hyperparametrů, které budu ladit"
   ]
  },
  {
   "cell_type": "code",
   "execution_count": 29,
   "id": "2a115ef5-4475-46ed-8eac-1fa2aad34264",
   "metadata": {},
   "outputs": [],
   "source": [
    "param_grid = {\n",
    "    'n_neighbors': range(3,21),\n",
    "    'weights': ['uniform', 'distance'],\n",
    "    'metric': ['euclidean', 'manhattan', 'minkowski', 'chebyshev'],\n",
    "    'algorithm': ['ball_tree', 'kd_tree', 'brute']}\n",
    "\n",
    "param_comb = ParameterGrid(param_grid)"
   ]
  },
  {
   "cell_type": "markdown",
   "id": "f92528cc-123d-4355-87d0-ea4823631392",
   "metadata": {},
   "source": [
    "> ##### Pro normalizaci dat použíju Min-max scaler"
   ]
  },
  {
   "cell_type": "code",
   "execution_count": 30,
   "id": "5f8edf0d-926c-407f-a928-529f4654a58d",
   "metadata": {},
   "outputs": [],
   "source": [
    "# Min-max scaler nafitujeme na trenovacich datech\n",
    "scaler = MinMaxScaler()\n",
    "Xtrain_scaled = scaler.fit_transform(Xtrain)\n",
    "\n",
    "# Pak stejnou transformaci aplikuju i na validacni a testovaci data\n",
    "Xval_scaled = scaler.transform(Xval)\n",
    "Xtest_scaled = scaler.transform(Xtest)"
   ]
  },
  {
   "cell_type": "markdown",
   "id": "3a151db0-0897-4fc5-8229-7fb0283eefe8",
   "metadata": {},
   "source": [
    "> ##### Vyberu nejlepší hyperparametry pro model"
   ]
  },
  {
   "cell_type": "code",
   "execution_count": 31,
   "id": "b8c45725-4959-48b5-bc2e-0cb97c4ec5b6",
   "metadata": {},
   "outputs": [],
   "source": [
    "best_params = None\n",
    "best_score = 0\n",
    "\n",
    "for params in param_comb:\n",
    "    model = KNeighborsClassifier(**params)\n",
    "    model.fit(Xtrain_scaled, ytrain)\n",
    "    score = metrics.accuracy_score(yval, model.predict(Xval_scaled))\n",
    "    if score > best_score:\n",
    "        best_score = score\n",
    "        best_params = params"
   ]
  },
  {
   "cell_type": "code",
   "execution_count": 32,
   "id": "62135436-6b60-4aeb-8b2f-e80c641c9661",
   "metadata": {},
   "outputs": [
    {
     "data": {
      "text/plain": [
       "{'algorithm': 'ball_tree',\n",
       " 'metric': 'euclidean',\n",
       " 'n_neighbors': 15,\n",
       " 'weights': 'uniform'}"
      ]
     },
     "execution_count": 32,
     "metadata": {},
     "output_type": "execute_result"
    }
   ],
   "source": [
    "best_params"
   ]
  },
  {
   "cell_type": "markdown",
   "id": "13b763f2-ea07-4deb-a190-ba7b957c7d79",
   "metadata": {},
   "source": [
    "> ##### Nafitujeme model s nejlepšími hyperparametry"
   ]
  },
  {
   "cell_type": "code",
   "execution_count": 33,
   "id": "703c5f81-dd46-4f5c-a241-e6e342dd213a",
   "metadata": {},
   "outputs": [
    {
     "data": {
      "text/html": [
       "<style>#sk-container-id-2 {color: black;}#sk-container-id-2 pre{padding: 0;}#sk-container-id-2 div.sk-toggleable {background-color: white;}#sk-container-id-2 label.sk-toggleable__label {cursor: pointer;display: block;width: 100%;margin-bottom: 0;padding: 0.3em;box-sizing: border-box;text-align: center;}#sk-container-id-2 label.sk-toggleable__label-arrow:before {content: \"▸\";float: left;margin-right: 0.25em;color: #696969;}#sk-container-id-2 label.sk-toggleable__label-arrow:hover:before {color: black;}#sk-container-id-2 div.sk-estimator:hover label.sk-toggleable__label-arrow:before {color: black;}#sk-container-id-2 div.sk-toggleable__content {max-height: 0;max-width: 0;overflow: hidden;text-align: left;background-color: #f0f8ff;}#sk-container-id-2 div.sk-toggleable__content pre {margin: 0.2em;color: black;border-radius: 0.25em;background-color: #f0f8ff;}#sk-container-id-2 input.sk-toggleable__control:checked~div.sk-toggleable__content {max-height: 200px;max-width: 100%;overflow: auto;}#sk-container-id-2 input.sk-toggleable__control:checked~label.sk-toggleable__label-arrow:before {content: \"▾\";}#sk-container-id-2 div.sk-estimator input.sk-toggleable__control:checked~label.sk-toggleable__label {background-color: #d4ebff;}#sk-container-id-2 div.sk-label input.sk-toggleable__control:checked~label.sk-toggleable__label {background-color: #d4ebff;}#sk-container-id-2 input.sk-hidden--visually {border: 0;clip: rect(1px 1px 1px 1px);clip: rect(1px, 1px, 1px, 1px);height: 1px;margin: -1px;overflow: hidden;padding: 0;position: absolute;width: 1px;}#sk-container-id-2 div.sk-estimator {font-family: monospace;background-color: #f0f8ff;border: 1px dotted black;border-radius: 0.25em;box-sizing: border-box;margin-bottom: 0.5em;}#sk-container-id-2 div.sk-estimator:hover {background-color: #d4ebff;}#sk-container-id-2 div.sk-parallel-item::after {content: \"\";width: 100%;border-bottom: 1px solid gray;flex-grow: 1;}#sk-container-id-2 div.sk-label:hover label.sk-toggleable__label {background-color: #d4ebff;}#sk-container-id-2 div.sk-serial::before {content: \"\";position: absolute;border-left: 1px solid gray;box-sizing: border-box;top: 0;bottom: 0;left: 50%;z-index: 0;}#sk-container-id-2 div.sk-serial {display: flex;flex-direction: column;align-items: center;background-color: white;padding-right: 0.2em;padding-left: 0.2em;position: relative;}#sk-container-id-2 div.sk-item {position: relative;z-index: 1;}#sk-container-id-2 div.sk-parallel {display: flex;align-items: stretch;justify-content: center;background-color: white;position: relative;}#sk-container-id-2 div.sk-item::before, #sk-container-id-2 div.sk-parallel-item::before {content: \"\";position: absolute;border-left: 1px solid gray;box-sizing: border-box;top: 0;bottom: 0;left: 50%;z-index: -1;}#sk-container-id-2 div.sk-parallel-item {display: flex;flex-direction: column;z-index: 1;position: relative;background-color: white;}#sk-container-id-2 div.sk-parallel-item:first-child::after {align-self: flex-end;width: 50%;}#sk-container-id-2 div.sk-parallel-item:last-child::after {align-self: flex-start;width: 50%;}#sk-container-id-2 div.sk-parallel-item:only-child::after {width: 0;}#sk-container-id-2 div.sk-dashed-wrapped {border: 1px dashed gray;margin: 0 0.4em 0.5em 0.4em;box-sizing: border-box;padding-bottom: 0.4em;background-color: white;}#sk-container-id-2 div.sk-label label {font-family: monospace;font-weight: bold;display: inline-block;line-height: 1.2em;}#sk-container-id-2 div.sk-label-container {text-align: center;}#sk-container-id-2 div.sk-container {/* jupyter's `normalize.less` sets `[hidden] { display: none; }` but bootstrap.min.css set `[hidden] { display: none !important; }` so we also need the `!important` here to be able to override the default hidden behavior on the sphinx rendered scikit-learn.org. See: https://github.com/scikit-learn/scikit-learn/issues/21755 */display: inline-block !important;position: relative;}#sk-container-id-2 div.sk-text-repr-fallback {display: none;}</style><div id=\"sk-container-id-2\" class=\"sk-top-container\"><div class=\"sk-text-repr-fallback\"><pre>KNeighborsClassifier(algorithm=&#x27;ball_tree&#x27;, metric=&#x27;euclidean&#x27;, n_neighbors=15)</pre><b>In a Jupyter environment, please rerun this cell to show the HTML representation or trust the notebook. <br />On GitHub, the HTML representation is unable to render, please try loading this page with nbviewer.org.</b></div><div class=\"sk-container\" hidden><div class=\"sk-item\"><div class=\"sk-estimator sk-toggleable\"><input class=\"sk-toggleable__control sk-hidden--visually\" id=\"sk-estimator-id-2\" type=\"checkbox\" checked><label for=\"sk-estimator-id-2\" class=\"sk-toggleable__label sk-toggleable__label-arrow\">KNeighborsClassifier</label><div class=\"sk-toggleable__content\"><pre>KNeighborsClassifier(algorithm=&#x27;ball_tree&#x27;, metric=&#x27;euclidean&#x27;, n_neighbors=15)</pre></div></div></div></div></div>"
      ],
      "text/plain": [
       "KNeighborsClassifier(algorithm='ball_tree', metric='euclidean', n_neighbors=15)"
      ]
     },
     "execution_count": 33,
     "metadata": {},
     "output_type": "execute_result"
    }
   ],
   "source": [
    "knn_model = KNeighborsClassifier(**best_params)\n",
    "knn_model.fit(Xtrain_scaled, ytrain)"
   ]
  },
  {
   "cell_type": "markdown",
   "id": "8b3ba9ed-9296-48ab-bf31-3bc9db5f1275",
   "metadata": {},
   "source": [
    "> ##### Podíváme se na přesnost nejlepšího modelu"
   ]
  },
  {
   "cell_type": "code",
   "execution_count": 34,
   "id": "e1b6a991-6543-4e97-ba8d-102899fa45d1",
   "metadata": {},
   "outputs": [
    {
     "name": "stdout",
     "output_type": "stream",
     "text": [
      "accuracy score (train): 0.811667\n",
      "accuracy score (validation): 0.835000\n",
      "accuracy score (test): 0.745000\n"
     ]
    }
   ],
   "source": [
    "print('accuracy score (train): {0:.6f}'.format(metrics.accuracy_score(ytrain, knn_model.predict(Xtrain_scaled))))\n",
    "print('accuracy score (validation): {0:.6f}'.format(metrics.accuracy_score(yval, knn_model.predict(Xval_scaled))))\n",
    "print('accuracy score (test): {0:.6f}'.format(metrics.accuracy_score(ytest, knn_model.predict(Xtest_scaled))))"
   ]
  },
  {
   "cell_type": "markdown",
   "id": "d0bb00db-c0a0-4a38-a3aa-0b5eaa54789d",
   "metadata": {},
   "source": [
    "> ##### Vypočítám F1 skóre pro KNN"
   ]
  },
  {
   "cell_type": "code",
   "execution_count": 35,
   "id": "135d61e8-0b9e-4206-a7df-64921bae7ca0",
   "metadata": {},
   "outputs": [
    {
     "name": "stdout",
     "output_type": "stream",
     "text": [
      "F1 score (test): 0.6331\n"
     ]
    }
   ],
   "source": [
    "print(f'F1 score (test): {metrics.f1_score(ytest, knn_model.predict(Xtest_scaled)):.4f}')"
   ]
  },
  {
   "cell_type": "markdown",
   "id": "3497f0ac-8f0f-4ff2-9003-5469e21c91ad",
   "metadata": {},
   "source": [
    "> ##### Nakreslím ROC křivku a určím AUC pro KNN"
   ]
  },
  {
   "cell_type": "code",
   "execution_count": 36,
   "id": "0ac6067b-898f-4509-bc6f-0472d351d32c",
   "metadata": {},
   "outputs": [],
   "source": [
    "y_pred_proba = knn_model.predict_proba(Xtest_scaled) # spocitame pravdepodobnosti pro kazdy radek\n",
    "p1_hat = y_pred_proba[:,1] # vezmeme pravdepodobnost pro kladnou tridu (pravdepodobnost, ze mame 1)"
   ]
  },
  {
   "cell_type": "code",
   "execution_count": 37,
   "id": "ee67eaed-25f0-47fa-baca-07411e5db09b",
   "metadata": {},
   "outputs": [
    {
     "data": {
      "image/png": "[encoded data removed]",
      "text/plain": [
       "<Figure size 640x480 with 1 Axes>"
      ]
     },
     "metadata": {},
     "output_type": "display_data"
    }
   ],
   "source": [
    "fpr, tpr, thresholds = metrics.roc_curve(ytest, p1_hat) # spocitame False Positive Rate, True Positive Rate a thresholdy\n",
    "\n",
    "AUC = metrics.auc(fpr, tpr)\n",
    "\n",
    "plt.figure()\n",
    "plt.plot([0, 1], [0, 1], color=\"navy\", lw=2, linestyle=\"--\")\n",
    "plt.plot(fpr, tpr, color=\"darkorange\", lw=2, label = f\"ROC křivka (AUC = {AUC:.3f})\")\n",
    "plt.xlim([0.0, 1.0])\n",
    "plt.ylim([0.0, 1.0])\n",
    "plt.xlabel(\"False Positive Rate\")\n",
    "plt.ylabel(\"True Positive Rate\")\n",
    "plt.title(\"ROC křivka\")\n",
    "plt.legend(loc=\"lower right\");"
   ]
  },
  {
   "cell_type": "markdown",
   "id": "2c2d8ded-f4cc-49f5-8860-0fb7fbe7de6e",
   "metadata": {},
   "source": [
    "> ##### Hodnota AUC = 0,82 je poměrně dobrá, což ukazuje na dobrý model 😃"
   ]
  },
  {
   "cell_type": "markdown",
   "id": "783845ad-720c-4197-9d3b-6ecbfec4fecb",
   "metadata": {},
   "source": [
    "### Argumenty pro a proti KNN \n",
    "\n",
    "#### Pro👍: \n",
    "- Snadná implementace a porozumění: Metoda KNN je snadno pochopitelná a implementovatelná.\n",
    "  \n",
    "#### Proti👎:\n",
    "- Vysoké nároky na výpočetní výkon a paměť: v mém případě byla pro KNN potřeba větší síť hyperparametrů)."
   ]
  },
  {
   "cell_type": "markdown",
   "id": "77620a66-777c-49f9-a1c6-f934c4954613",
   "metadata": {},
   "source": [
    "## Finalní model"
   ]
  },
  {
   "cell_type": "markdown",
   "id": "6d41070a-e6c8-4fbf-813d-126d3a9d3251",
   "metadata": {},
   "source": [
    "> Podle výsledků, které jsem získal po natrénování obou modelů, jsem se rozhodl zvolit finální model pomocí AUC. Vzhledem k tomu, že data ve vysvětlované proměnné nejsou vysoce disbalancovaná, nebudu používat F1 skore. Jako finalní model jsem tedy zvolil KNN. Přesnost modelu lze odvodit z přesnosti na testovacích datech, která je u KNN přibližně 0,75."
   ]
  },
  {
   "cell_type": "markdown",
   "id": "a100c0c1-ac02-4b03-8ee8-3f40aea9358f",
   "metadata": {},
   "source": [
    "## Evaluace"
   ]
  },
  {
   "cell_type": "markdown",
   "id": "c7d35725-d094-4c8d-b8fe-2bcadbea1a4e",
   "metadata": {},
   "source": [
    "> ##### Načteme dataset evaluation"
   ]
  },
  {
   "cell_type": "code",
   "execution_count": 38,
   "id": "2036f731-19a2-455e-b2ce-05f83651c2bd",
   "metadata": {},
   "outputs": [],
   "source": [
    "df_eval = pd.read_csv(\"evaluation.csv\")"
   ]
  },
  {
   "cell_type": "markdown",
   "id": "88f49846-74e5-42c4-8a11-0e9365ae9f71",
   "metadata": {},
   "source": [
    "> ##### Prázdné hodnoty věku a ceny vyplním **stejnými** hodnotami jako v souboru dat pro trénování"
   ]
  },
  {
   "cell_type": "code",
   "execution_count": 39,
   "id": "fbe25470-85df-4127-b319-9d06d1c8155e",
   "metadata": {},
   "outputs": [],
   "source": [
    "df_eval[\"age\"] = df_eval[\"age\"].fillna(age_median)"
   ]
  },
  {
   "cell_type": "code",
   "execution_count": 40,
   "id": "2a0a3224-6f36-470a-9c8b-ded5881064d0",
   "metadata": {},
   "outputs": [],
   "source": [
    "df_eval[\"fare\"] = df_eval[\"fare\"].fillna(fare_median)"
   ]
  },
  {
   "cell_type": "markdown",
   "id": "932cf6f6-1997-4c81-8670-e8345336c537",
   "metadata": {},
   "source": [
    "> ##### Odstraním stejné zbytečné příznaky jako v trénovacím datasetu"
   ]
  },
  {
   "cell_type": "code",
   "execution_count": 41,
   "id": "b7ba9cf9-2768-455d-ba56-3d28bbd004a7",
   "metadata": {},
   "outputs": [],
   "source": [
    "id = df_eval[\"ID\"]\n",
    "df_eval.drop(columns=[\"ID\", \"name\", \"ticket\", \"cabin\", \"home.dest\"], inplace=True)"
   ]
  },
  {
   "cell_type": "markdown",
   "id": "6d0f43d8-b54e-4fd2-ac1c-82a6b169d7ab",
   "metadata": {},
   "source": [
    "> ##### Kategorické příznaky převedu do **stejného** kódování jako v datasetu pro trénování."
   ]
  },
  {
   "cell_type": "code",
   "execution_count": 42,
   "id": "2f0b02e5-8454-4d6c-a61d-aee19a85d1e3",
   "metadata": {},
   "outputs": [
    {
     "data": {
      "text/plain": [
       "sex         2\n",
       "embarked    3\n",
       "dtype: int64"
      ]
     },
     "execution_count": 42,
     "metadata": {},
     "output_type": "execute_result"
    }
   ],
   "source": [
    "string_columns = df_eval.select_dtypes(['object']).columns\n",
    "df_eval[string_columns].nunique()"
   ]
  },
  {
   "cell_type": "code",
   "execution_count": 43,
   "id": "e0479105-d2d0-4b16-8133-f190757e57ab",
   "metadata": {},
   "outputs": [],
   "source": [
    "for column in string_columns:\n",
    "    df_eval[column] = label_encoders[column].transform(df_eval[column])"
   ]
  },
  {
   "cell_type": "markdown",
   "id": "35139f56-0674-44db-b25f-08a76f6612f7",
   "metadata": {},
   "source": [
    "> ##### Vyměmím zbylé nan na -1"
   ]
  },
  {
   "cell_type": "code",
   "execution_count": 44,
   "id": "d9249f14-9214-4758-b7a5-303a8ff497a3",
   "metadata": {},
   "outputs": [],
   "source": [
    "df_eval = df_eval.replace(np.nan, -1)"
   ]
  },
  {
   "cell_type": "markdown",
   "id": "1bc02c7e-9dca-47ba-aaf4-4f9390cd1609",
   "metadata": {},
   "source": [
    "> ##### Pro normalizaci dat použíju **stejný** Min-max scaler"
   ]
  },
  {
   "cell_type": "code",
   "execution_count": 45,
   "id": "3cfa6c92-2b11-4881-a7d1-44eba2697141",
   "metadata": {},
   "outputs": [],
   "source": [
    "df_eval_scaled = scaler.transform(df_eval)"
   ]
  },
  {
   "cell_type": "markdown",
   "id": "c29f9c66-e253-40ff-a8fc-6535f0f6ce6a",
   "metadata": {},
   "source": [
    "> ##### Udělám predikci pro dataset evaluation a výsledky uložím do souboru results.csv"
   ]
  },
  {
   "cell_type": "code",
   "execution_count": 46,
   "id": "6b82ea2c-f78a-4200-beca-70f343921a05",
   "metadata": {},
   "outputs": [],
   "source": [
    "predicted_survived = knn_model.predict(df_eval_scaled)\n",
    "\n",
    "df_result = pd.DataFrame({\n",
    "    'ID': id,\n",
    "    'survived': predicted_survived\n",
    "})\n",
    "\n",
    "df_result.to_csv('results.csv', index=False)"
   ]
  },
  {
   "cell_type": "markdown",
   "id": "d54b5689-f6e3-49c2-95f9-0676393e7869",
   "metadata": {},
   "source": [
    "> ##### Podíváme se na výsledky predikce"
   ]
  },
  {
   "cell_type": "code",
   "execution_count": 47,
   "id": "1b7e5d04-9888-4959-9163-258c5199e319",
   "metadata": {},
   "outputs": [
    {
     "data": {
      "text/plain": [
       "survived\n",
       "0    233\n",
       "1     76\n",
       "Name: count, dtype: int64"
      ]
     },
     "execution_count": 47,
     "metadata": {},
     "output_type": "execute_result"
    }
   ],
   "source": [
    "df_result[\"survived\"].value_counts()"
   ]
  },
  {
   "cell_type": "markdown",
   "id": "e8928992-b2d0-4840-9679-44f3679e0cc0",
   "metadata": {},
   "source": [
    "### Konec :)"
   ]
  }
 ],
 "metadata": {
  "kernelspec": {
   "display_name": "Python 3 (ipykernel)",
   "language": "python",
   "name": "python3"
  },
  "language_info": {
   "codemirror_mode": {
    "name": "ipython",
    "version": 3
   },
   "file_extension": ".py",
   "mimetype": "text/x-python",
   "name": "python",
   "nbconvert_exporter": "python",
   "pygments_lexer": "ipython3",
   "version": "3.10.6"
  }
 },
 "nbformat": 4,
 "nbformat_minor": 5
}
